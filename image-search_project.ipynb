{
 "cells": [
  {
   "cell_type": "markdown",
   "metadata": {},
   "source": [
    "### Step 0 Import dependencies"
   ]
  },
  {
   "cell_type": "code",
   "execution_count": 129,
   "metadata": {},
   "outputs": [],
   "source": [
    "import numpy as np\n",
    "import os\n",
    "import cv2\n",
    "import matplotlib.pyplot as plt\n",
    "import pandas as pd\n",
    "import pickle\n",
    "import tensorflow as tf\n",
    "\n",
    "from tqdm import tqdm\n",
    "from scipy.spatial.distance import hamming, cosine, euclidean\n",
    "\n",
    "%matplotlib inline"
   ]
  },
  {
   "cell_type": "markdown",
   "metadata": {},
   "source": [
    "### Step 1 Dataset utils and preprocessing"
   ]
  },
  {
   "cell_type": "code",
   "execution_count": 2,
   "metadata": {},
   "outputs": [],
   "source": [
    "def image_loader(image_path, image_size):\n",
    "    '''\n",
    "    Load an image from a disk.\n",
    "    \n",
    "    :param image_path: String, path to the image\n",
    "    :param image_size: tuple, size of an output image Example: image_size=(32, 32)\n",
    "    '''\n",
    "    \n",
    "    image = cv2.imread(image_path)\n",
    "    image = cv2.cvtColor(image, cv2.COLOR_BGR2RGB)\n",
    "    image = cv2.resize(image, image_size, cv2.INTER_CUBIC)\n",
    "    return image"
   ]
  },
  {
   "cell_type": "code",
   "execution_count": 3,
   "metadata": {},
   "outputs": [],
   "source": [
    "def dataset_preprocessing(dataset_path, labels_file_path, image_size, image_paths_pickle):\n",
    "    '''\n",
    "    Loads images and labels from dataset folder.\n",
    "    \n",
    "    :param dataset_path: String, path to the train/test dataset folder\n",
    "    :param labels_file_path: String, path to the .txt file where classes names are written\n",
    "    :param image_size: tuple, single image size\n",
    "    :param image_paths_pickle: String, name of a pickle file where all image paths will be saved\n",
    "    '''\n",
    "    \n",
    "    with open(labels_file_path, 'r') as f:\n",
    "        classes = f.read().split('\\n')[:-1]\n",
    "        \n",
    "    \n",
    "    images = []\n",
    "    labels = []\n",
    "    image_paths = []\n",
    "    \n",
    "    for image_name in os.listdir(dataset_path):\n",
    "        try:\n",
    "            image_path = os.path.join(dataset_path, image_name)\n",
    "            images.append(image_loader(image_path, image_size))\n",
    "            image_paths.append(image_path)\n",
    "            for idx in range(len(classes)):\n",
    "                if classes[idx] in image_name: #Example: 0_frog.png\n",
    "                    labels.append(idx)\n",
    "        except:\n",
    "            pass\n",
    "    \n",
    "    with open(image_paths_pickle + \".pickle\", 'wb') as f:\n",
    "        pickle.dump(image_paths, f)\n",
    "    \n",
    "    assert len(images) == len(labels)\n",
    "    return np.array(images), np.array(labels)"
   ]
  },
  {
   "cell_type": "markdown",
   "metadata": {},
   "source": [
    "### Step 2 Utils function"
   ]
  },
  {
   "cell_type": "markdown",
   "metadata": {},
   "source": [
    "![](helper_images/cosine.png)\n",
    "![](helper_images/cosine_formula.png)"
   ]
  },
  {
   "cell_type": "code",
   "execution_count": 4,
   "metadata": {},
   "outputs": [],
   "source": [
    "def cosine_distance(training_set_vectors, query_vector, top_n=50):\n",
    "    '''\n",
    "    Calculates cosine distances between query image (vector) and all training set images (vectors).\n",
    "    \n",
    "    :param training_set_vectors: numpy Matrix, vectors for all images in the training set\n",
    "    :param query_vector: numpy vector, query image (new image) vector\n",
    "    :param top_n: integer, number of closest images to return\n",
    "    '''\n",
    "    \n",
    "    distances = []\n",
    "    \n",
    "    for i in range(len(training_set_vectors)): #For Cifar 10 -> 50k images\n",
    "        distances.append(cosine(training_set_vectors[i], query_vector[0]))\n",
    "        \n",
    "    return np.argsort(distances)[:top_n]"
   ]
  },
  {
   "cell_type": "markdown",
   "metadata": {},
   "source": [
    "![](helper_images/hamming.png)"
   ]
  },
  {
   "cell_type": "code",
   "execution_count": 5,
   "metadata": {},
   "outputs": [],
   "source": [
    "def hamming_distance(training_set_vectors, query_vector, top_n=50):\n",
    "    '''\n",
    "    Calculates hamming distances between query image (vector) and all training set images (vectors).\n",
    "    \n",
    "    :param training_set_vectors: numpy Matrix, vectors for all images in the training set\n",
    "    :param query_vector: numpy vector, query image (new image) vector\n",
    "    :param top_n: Integer, number of closest images to return\n",
    "    '''\n",
    "     \n",
    "    distances = []\n",
    "    \n",
    "    for i in range(len(training_set_vectors)): #For Cifar 10 -> 50k images\n",
    "        distances.append(hamming(training_set_vectors[i], query_vector[0]))\n",
    "        \n",
    "    return np.argsort(distances)[:top_n]   "
   ]
  },
  {
   "cell_type": "code",
   "execution_count": 6,
   "metadata": {},
   "outputs": [],
   "source": [
    "def sparse_accuracy(true_labels, predicted_labels):\n",
    "    '''\n",
    "    Calculates accuracy of a model based on softmax outputs.\n",
    "    \n",
    "    :param true_labels: numpy array, real labels of each sample. Example: [1, 2, 1, 0, 0]\n",
    "    :param predicted_labels: numpy matrix, softmax probabilities. Example [[0.2, 0.1, 0.7], [0.9, 0.05, 0.05]]\n",
    "    '''\n",
    "    \n",
    "    assert len(true_labels) == len(predicted_labels)\n",
    "    \n",
    "    correct = 0\n",
    "    \n",
    "    for i in range(len(true_labels)):\n",
    "        \n",
    "        if np.argmax(predicted_labels[i]) == true_labels[i]:\n",
    "            correct += 1\n",
    "            \n",
    "    return correct / len(true_labels)"
   ]
  },
  {
   "cell_type": "markdown",
   "metadata": {},
   "source": [
    "### Step 3 Model utils"
   ]
  },
  {
   "cell_type": "code",
   "execution_count": 7,
   "metadata": {},
   "outputs": [],
   "source": [
    "def model_inputs(image_size):\n",
    "    '''\n",
    "    Defines CNN inputs (placeholders).\n",
    "    \n",
    "    :param image_size: tuple, (height, width) of an image\n",
    "    '''\n",
    "    #-> [Batch_size, image_size[0], image_size[1], 3]\n",
    "    inputs = tf.placeholder(dtype=tf.float32, shape=[None, image_size[0], image_size[1], 3], name='images')\n",
    "    targets = tf.placeholder(dtype=tf.int32, shape=[None,], name='targets')\n",
    "    dropout_prob = tf.placeholder(dtype=tf.float32, name='dropout_probs')\n",
    "    \n",
    "    return inputs, targets, dropout_prob"
   ]
  },
  {
   "cell_type": "code",
   "execution_count": 8,
   "metadata": {},
   "outputs": [],
   "source": [
    "def conv_block(inputs, \n",
    "               number_of_filters, \n",
    "               kernel_size, \n",
    "               strides=(1, 1), \n",
    "               padding='SAME', \n",
    "               activation=tf.nn.relu, \n",
    "               max_pool=True, \n",
    "               batch_norm=True):\n",
    "    \n",
    "    '''\n",
    "    Defines convolutional block layer.\n",
    "    \n",
    "    :param inputs: data from a previous layer\n",
    "    :param number_of_filters: integer, number of conv filters\n",
    "    :param kernel_size: tuple, size of conv layer kernel\n",
    "    :param padding: string, type of padding technique: SAME or VALID\n",
    "    :param activation: tf.object, activation function used on the layer\n",
    "    :param max_pool: boolean, if true the conv block will use max_pool\n",
    "    :param batch_norm: boolean, if true the conv block will use batch normalization\n",
    "    '''\n",
    "    \n",
    "    conv_features = layer = tf.layers.conv2d(inputs=inputs, \n",
    "                                             filters=number_of_filters, \n",
    "                                             kernel_size=kernel_size, \n",
    "                                             strides=strides, \n",
    "                                             padding=padding, \n",
    "                                             activation=activation)\n",
    "    \n",
    "    if max_pool:\n",
    "        layer = tf.layers.max_pooling2d(layer, \n",
    "                                        pool_size=(2, 2), \n",
    "                                        strides=(2, 2),\n",
    "                                        padding='SAME')\n",
    "        \n",
    "    if batch_norm:\n",
    "        layer = tf.layers.batch_normalization(layer)\n",
    "        \n",
    "    return layer, conv_features"
   ]
  },
  {
   "cell_type": "code",
   "execution_count": 9,
   "metadata": {},
   "outputs": [],
   "source": [
    "def dense_block(inputs, \n",
    "                units, \n",
    "                activation=tf.nn.relu, \n",
    "                dropout_rate=None, \n",
    "                batch_norm=True):\n",
    "    \n",
    "    '''\n",
    "    Defines dense block layer.\n",
    "    \n",
    "    :param inputs: data from a previous layer\n",
    "    :param units: integer, number of neurons/units for a dense layer\n",
    "    :param activation: tf.object, activation function used on the layer\n",
    "    :param dropout_rate: dropout rate used in this dense block\n",
    "    :param batch_norm: boolean, if true the conv block will use batch normalization\n",
    "    '''\n",
    "    \n",
    "    dense_features = layer = tf.layers.dense(inputs, \n",
    "                                             units=units, \n",
    "                                             activation=activation)\n",
    "    \n",
    "    if dropout_rate is not None:\n",
    "        layer = tf.layers.dropout(layer, rate=dropout_rate)\n",
    "    \n",
    "    if batch_norm:\n",
    "        layer = tf.layers.batch_normalization(layer)\n",
    "        \n",
    "    return layer, dense_features"
   ]
  },
  {
   "cell_type": "code",
   "execution_count": 10,
   "metadata": {},
   "outputs": [],
   "source": [
    "def opt_loss(logits, \n",
    "             targets, \n",
    "             learning_rate):\n",
    "    \n",
    "    '''\n",
    "    Defines model's optimizer and loss functions.\n",
    "    \n",
    "    :param logits: pre-activated model outputs\n",
    "    :param targets: true labels for each input sample\n",
    "    :param learning_rate: learning_rate\n",
    "    '''\n",
    "    \n",
    "    loss = tf.reduce_mean(tf.nn.sparse_softmax_cross_entropy_with_logits(labels=targets, logits=logits))\n",
    "    \n",
    "    optimizer = tf.train.AdamOptimizer(learning_rate=learning_rate).minimize(loss)\n",
    "    \n",
    "    return loss, optimizer"
   ]
  },
  {
   "cell_type": "markdown",
   "metadata": {},
   "source": [
    "![](helper_images/conv_model.png)\n",
    "Image from: *https://github.com/deep-diver/CIFAR10-img-classification-tensorflow*"
   ]
  },
  {
   "cell_type": "code",
   "execution_count": 11,
   "metadata": {},
   "outputs": [],
   "source": [
    "class ImageSearchModel(object):\n",
    "    \n",
    "    def __init__(self, \n",
    "                 learning_rate, \n",
    "                 image_size, \n",
    "                 number_of_classes=10):\n",
    "        \n",
    "        '''\n",
    "        Defines CNN model.\n",
    "        \n",
    "        :param learning_rate: learning_rate\n",
    "        :param image_size: tuple, (height, width) of an image\n",
    "        :param number_of_classes: integer, number of classes in a dataset.\n",
    "        '''\n",
    "        \n",
    "        tf.reset_default_graph()\n",
    "        \n",
    "        #model inputs\n",
    "        self.inputs, self.targets, self.dropout_rate = model_inputs(image_size)\n",
    "        \n",
    "        normalized_images = tf.layers.batch_normalization(self.inputs)\n",
    "        \n",
    "        #conv_1 block\n",
    "        conv_block_1, self.conv_1_features = conv_block(inputs=normalized_images, \n",
    "                                                        number_of_filters=64, \n",
    "                                                        kernel_size=(3, 3), \n",
    "                                                        strides=(1, 1), \n",
    "                                                        padding='SAME', \n",
    "                                                        activation=tf.nn.relu, \n",
    "                                                        max_pool=True, \n",
    "                                                        batch_norm=True)\n",
    "        \n",
    " \n",
    "        #conv_2 block\n",
    "        conv_block_2, self.conv_2_features = conv_block(inputs=conv_block_1, \n",
    "                                                        number_of_filters=128, \n",
    "                                                        kernel_size=(3, 3), \n",
    "                                                        strides=(1, 1), \n",
    "                                                        padding='SAME', \n",
    "                                                        activation=tf.nn.relu, \n",
    "                                                        max_pool=True, \n",
    "                                                        batch_norm=True)\n",
    "        \n",
    "        #conv_3 block\n",
    "        conv_block_3, self.conv_3_features = conv_block(inputs=conv_block_2, \n",
    "                                                        number_of_filters=256, \n",
    "                                                        kernel_size=(5, 5), \n",
    "                                                        strides=(1, 1), \n",
    "                                                        padding='SAME', \n",
    "                                                        activation=tf.nn.relu, \n",
    "                                                        max_pool=True, \n",
    "                                                        batch_norm=True)\n",
    "        \n",
    "        #conv_4 block\n",
    "        conv_block_4, self.conv_4_features = conv_block(inputs=conv_block_3, \n",
    "                                                        number_of_filters=512, \n",
    "                                                        kernel_size=(5, 5), \n",
    "                                                        strides=(1, 1), \n",
    "                                                        padding='SAME', \n",
    "                                                        activation=tf.nn.relu, \n",
    "                                                        max_pool=True, \n",
    "                                                        batch_norm=True)\n",
    "        \n",
    "        #flattening\n",
    "        flat_layer = tf.layers.flatten(conv_block_4)\n",
    "        \n",
    "        #1st dense block\n",
    "        dense_block_1, dense_1_features = dense_block(inputs=flat_layer, \n",
    "                                                       units=128, \n",
    "                                                       activation=tf.nn.relu, \n",
    "                                                       dropout_rate=self.dropout_rate, \n",
    "                                                       batch_norm=True)\n",
    "        \n",
    "        #2nd dense block\n",
    "        dense_block_2, self.dense_2_features = dense_block(inputs=dense_block_1, \n",
    "                                                       units=256, \n",
    "                                                       activation=tf.nn.relu, \n",
    "                                                       dropout_rate=self.dropout_rate, \n",
    "                                                       batch_norm=True)\n",
    "        \n",
    "        #3rd dense block\n",
    "        dense_block_3, self.dense_3_features = dense_block(inputs=dense_block_2, \n",
    "                                                       units=512, \n",
    "                                                       activation=tf.nn.relu, \n",
    "                                                       dropout_rate=self.dropout_rate, \n",
    "                                                       batch_norm=True)\n",
    "        \n",
    "        #4th dense block\n",
    "        dense_block_4, self.dense_4_features = dense_block(inputs=dense_block_3, \n",
    "                                                       units=1024, \n",
    "                                                       activation=tf.nn.relu, \n",
    "                                                       dropout_rate=self.dropout_rate, \n",
    "                                                       batch_norm=True)\n",
    "        \n",
    "        #output layer\n",
    "        logits = tf.layers.dense(inputs=dense_block_4, \n",
    "                                 units=number_of_classes, \n",
    "                                 activation=None)\n",
    "        \n",
    "        self.predictions = tf.nn.softmax(logits)\n",
    "        \n",
    "        self.loss, self.optimizer = opt_loss(logits=logits, \n",
    "                                             targets=self.targets, \n",
    "                                             learning_rate=learning_rate)"
   ]
  },
  {
   "cell_type": "markdown",
   "metadata": {},
   "source": [
    "### Step 4 Training loop - training the model"
   ]
  },
  {
   "cell_type": "code",
   "execution_count": 12,
   "metadata": {},
   "outputs": [],
   "source": [
    "def train(model, \n",
    "          epochs,\n",
    "          drop_rate,\n",
    "          batch_size, \n",
    "          data, \n",
    "          save_dir, \n",
    "          saver_delta=0.15):\n",
    "    \n",
    "    '''\n",
    "    The core training function, use this function to train a model.\n",
    "    \n",
    "    :param model: CNN model\n",
    "    :param epochs: integer, number of epochs\n",
    "    :param drop_rate: float, dropout_rate\n",
    "    :param batch_size: integer, number of samples to put through the model at once\n",
    "    :param data: tuple, train-test data Example(X_train, y_train, X_test, y_test)\n",
    "    :param save_dir: string, path to a folder where model checkpoints will be saved\n",
    "    :param saver_delta: float, used to prevent overfitted model to be saved\n",
    "    '''\n",
    "    \n",
    "    X_train, y_train, X_test, y_test = data\n",
    "    \n",
    "    #start session\n",
    "    session = tf.Session()\n",
    "    session.run(tf.global_variables_initializer())\n",
    "    \n",
    "    #define saver\n",
    "    saver = tf.train.Saver()\n",
    "    \n",
    "    best_test_accuracy = 0.0\n",
    "    #start training loop\n",
    "    for epoch in range(epochs):\n",
    "        \n",
    "        train_accuracy = []\n",
    "        train_loss = []\n",
    "        \n",
    "        for ii in tqdm(range(len(X_train) // batch_size)):\n",
    "            start_id = ii*batch_size\n",
    "            end_id = start_id + batch_size\n",
    "            \n",
    "            X_batch = X_train[start_id:end_id]\n",
    "            y_batch = y_train[start_id:end_id]\n",
    "            \n",
    "            feed_dict = {model.inputs:X_batch, \n",
    "                         model.targets:y_batch, \n",
    "                         model.dropout_rate:drop_rate}\n",
    "            \n",
    "            _, t_loss, preds_t = session.run([model.optimizer, model.loss, model.predictions], feed_dict=feed_dict)\n",
    "            \n",
    "            train_accuracy.append(sparse_accuracy(y_batch, preds_t))\n",
    "            train_loss.append(t_loss)\n",
    "            \n",
    "        print(\"Epoch: {}/{}\".format(epoch, epochs),  \n",
    "              \" | Training accuracy: {}\".format(np.mean(train_accuracy)), \n",
    "              \" | Training loss: {}\".format(np.mean(train_loss)) )\n",
    "        \n",
    "        test_accuracy = []\n",
    "        \n",
    "        for ii in tqdm(range(len(X_test) // batch_size)):\n",
    "            start_id = ii*batch_size\n",
    "            end_id = start_id + batch_size\n",
    "            \n",
    "            X_batch = X_test[start_id:end_id]\n",
    "            y_batch = y_test[start_id:end_id]\n",
    "            \n",
    "            feed_dict = {model.inputs:X_batch, \n",
    "                         model.dropout_rate:0.0}\n",
    "            \n",
    "            preds_test = session.run(model.predictions, feed_dict=feed_dict)\n",
    "            test_accuracy.append(sparse_accuracy(y_batch, preds_test))\n",
    "            \n",
    "        print(\"Test accuracy: {}\".format(np.mean(test_accuracy)))\n",
    "        \n",
    "        #saving the model\n",
    "        if np.mean(train_accuracy) > np.mean(test_accuracy): #to prevent underfitting\n",
    "            if np.abs(np.mean(train_accuracy) - np.mean(test_accuracy)) <= saver_delta: #to prevent overfit\n",
    "                if np.mean(test_accuracy) >= best_test_accuracy:\n",
    "                    best_test_accuracy = np.mean(test_accuracy)\n",
    "                    saver.save(session, \"{}/model_epoch_{}.ckpt\".format(save_dir, epoch))\n",
    "                    \n",
    "    session.close()"
   ]
  },
  {
   "cell_type": "markdown",
   "metadata": {},
   "source": [
    "#### Setting hyperparameters and training the model"
   ]
  },
  {
   "cell_type": "code",
   "execution_count": 13,
   "metadata": {},
   "outputs": [],
   "source": [
    "epochs = 20\n",
    "batch_size = 128\n",
    "learning_rate = 0.001\n",
    "dropout_probs = 0.6\n",
    "image_size = (32, 32)"
   ]
  },
  {
   "cell_type": "code",
   "execution_count": 14,
   "metadata": {},
   "outputs": [],
   "source": [
    "X_train, y_train = dataset_preprocessing('dataset/train/', 'dataset/labels.txt', image_size=image_size, image_paths_pickle=\"train_images_pickle\")"
   ]
  },
  {
   "cell_type": "code",
   "execution_count": 15,
   "metadata": {},
   "outputs": [
    {
     "data": {
      "text/plain": [
       "(50000, 32, 32, 3)"
      ]
     },
     "execution_count": 15,
     "metadata": {},
     "output_type": "execute_result"
    }
   ],
   "source": [
    "X_train.shape"
   ]
  },
  {
   "cell_type": "code",
   "execution_count": 16,
   "metadata": {},
   "outputs": [],
   "source": [
    "X_test, y_test = dataset_preprocessing('dataset/test/', 'dataset/labels.txt', image_size=image_size, image_paths_pickle=\"test_images_pickle\")"
   ]
  },
  {
   "cell_type": "code",
   "execution_count": 17,
   "metadata": {},
   "outputs": [
    {
     "data": {
      "text/plain": [
       "(10000, 32, 32, 3)"
      ]
     },
     "execution_count": 17,
     "metadata": {},
     "output_type": "execute_result"
    }
   ],
   "source": [
    "X_test.shape"
   ]
  },
  {
   "cell_type": "code",
   "execution_count": 18,
   "metadata": {},
   "outputs": [],
   "source": [
    "#define the model\n",
    "model = ImageSearchModel(learning_rate, image_size)"
   ]
  },
  {
   "cell_type": "code",
   "execution_count": 19,
   "metadata": {},
   "outputs": [],
   "source": [
    "data = (X_train, y_train, X_test, y_test)"
   ]
  },
  {
   "cell_type": "code",
   "execution_count": 87,
   "metadata": {
    "scrolled": false
   },
   "outputs": [
    {
     "name": "stderr",
     "output_type": "stream",
     "text": [
      "100%|████████████████████████████████████████████████████████████████████████████████| 390/390 [11:02<00:00,  1.70s/it]\n"
     ]
    },
    {
     "name": "stdout",
     "output_type": "stream",
     "text": [
      "Epoch: 0/20  | Training accuracy: 0.34372996794871796  | Training loss: 1.9067187309265137\n"
     ]
    },
    {
     "name": "stderr",
     "output_type": "stream",
     "text": [
      "100%|██████████████████████████████████████████████████████████████████████████████████| 78/78 [00:21<00:00,  3.76it/s]\n"
     ]
    },
    {
     "name": "stdout",
     "output_type": "stream",
     "text": [
      "Test accuracy: 0.5105168269230769\n"
     ]
    },
    {
     "name": "stderr",
     "output_type": "stream",
     "text": [
      "100%|████████████████████████████████████████████████████████████████████████████████| 390/390 [10:58<00:00,  1.67s/it]\n"
     ]
    },
    {
     "name": "stdout",
     "output_type": "stream",
     "text": [
      "Epoch: 1/20  | Training accuracy: 0.5532451923076923  | Training loss: 1.2362909317016602\n"
     ]
    },
    {
     "name": "stderr",
     "output_type": "stream",
     "text": [
      "100%|██████████████████████████████████████████████████████████████████████████████████| 78/78 [00:20<00:00,  3.70it/s]\n"
     ]
    },
    {
     "name": "stdout",
     "output_type": "stream",
     "text": [
      "Test accuracy: 0.6156850961538461\n"
     ]
    },
    {
     "name": "stderr",
     "output_type": "stream",
     "text": [
      "100%|████████████████████████████████████████████████████████████████████████████████| 390/390 [11:02<00:00,  1.68s/it]\n"
     ]
    },
    {
     "name": "stdout",
     "output_type": "stream",
     "text": [
      "Epoch: 2/20  | Training accuracy: 0.6390625  | Training loss: 1.0200424194335938\n"
     ]
    },
    {
     "name": "stderr",
     "output_type": "stream",
     "text": [
      "100%|██████████████████████████████████████████████████████████████████████████████████| 78/78 [00:20<00:00,  3.76it/s]\n"
     ]
    },
    {
     "name": "stdout",
     "output_type": "stream",
     "text": [
      "Test accuracy: 0.6670673076923077\n"
     ]
    },
    {
     "name": "stderr",
     "output_type": "stream",
     "text": [
      "100%|████████████████████████████████████████████████████████████████████████████████| 390/390 [10:51<00:00,  1.63s/it]\n"
     ]
    },
    {
     "name": "stdout",
     "output_type": "stream",
     "text": [
      "Epoch: 3/20  | Training accuracy: 0.6874799679487179  | Training loss: 0.891916811466217\n"
     ]
    },
    {
     "name": "stderr",
     "output_type": "stream",
     "text": [
      "100%|██████████████████████████████████████████████████████████████████████████████████| 78/78 [00:20<00:00,  3.91it/s]\n"
     ]
    },
    {
     "name": "stdout",
     "output_type": "stream",
     "text": [
      "Test accuracy: 0.674979967948718\n"
     ]
    },
    {
     "name": "stderr",
     "output_type": "stream",
     "text": [
      "100%|████████████████████████████████████████████████████████████████████████████████| 390/390 [11:21<00:00,  1.89s/it]\n"
     ]
    },
    {
     "name": "stdout",
     "output_type": "stream",
     "text": [
      "Epoch: 4/20  | Training accuracy: 0.7306490384615385  | Training loss: 0.7726221084594727\n"
     ]
    },
    {
     "name": "stderr",
     "output_type": "stream",
     "text": [
      "100%|██████████████████████████████████████████████████████████████████████████████████| 78/78 [00:21<00:00,  3.85it/s]\n"
     ]
    },
    {
     "name": "stdout",
     "output_type": "stream",
     "text": [
      "Test accuracy: 0.6774839743589743\n"
     ]
    },
    {
     "name": "stderr",
     "output_type": "stream",
     "text": [
      "100%|████████████████████████████████████████████████████████████████████████████████| 390/390 [10:30<00:00,  1.60s/it]\n"
     ]
    },
    {
     "name": "stdout",
     "output_type": "stream",
     "text": [
      "Epoch: 5/20  | Training accuracy: 0.7586738782051282  | Training loss: 0.6904270052909851\n"
     ]
    },
    {
     "name": "stderr",
     "output_type": "stream",
     "text": [
      "100%|██████████████████████████████████████████████████████████████████████████████████| 78/78 [00:19<00:00,  3.93it/s]\n"
     ]
    },
    {
     "name": "stdout",
     "output_type": "stream",
     "text": [
      "Test accuracy: 0.6898036858974359\n"
     ]
    },
    {
     "name": "stderr",
     "output_type": "stream",
     "text": [
      "100%|████████████████████████████████████████████████████████████████████████████████| 390/390 [10:22<00:00,  1.60s/it]\n"
     ]
    },
    {
     "name": "stdout",
     "output_type": "stream",
     "text": [
      "Epoch: 6/20  | Training accuracy: 0.7814503205128205  | Training loss: 0.6304998993873596\n"
     ]
    },
    {
     "name": "stderr",
     "output_type": "stream",
     "text": [
      "100%|██████████████████████████████████████████████████████████████████████████████████| 78/78 [00:19<00:00,  3.85it/s]\n"
     ]
    },
    {
     "name": "stdout",
     "output_type": "stream",
     "text": [
      "Test accuracy: 0.6567508012820513\n"
     ]
    },
    {
     "name": "stderr",
     "output_type": "stream",
     "text": [
      "100%|████████████████████████████████████████████████████████████████████████████████| 390/390 [10:23<00:00,  1.61s/it]\n"
     ]
    },
    {
     "name": "stdout",
     "output_type": "stream",
     "text": [
      "Epoch: 7/20  | Training accuracy: 0.8014423076923077  | Training loss: 0.5756016373634338\n"
     ]
    },
    {
     "name": "stderr",
     "output_type": "stream",
     "text": [
      "100%|██████████████████████████████████████████████████████████████████████████████████| 78/78 [00:19<00:00,  3.93it/s]\n"
     ]
    },
    {
     "name": "stdout",
     "output_type": "stream",
     "text": [
      "Test accuracy: 0.6306089743589743\n"
     ]
    },
    {
     "name": "stderr",
     "output_type": "stream",
     "text": [
      "100%|████████████████████████████████████████████████████████████████████████████████| 390/390 [10:26<00:00,  1.61s/it]\n"
     ]
    },
    {
     "name": "stdout",
     "output_type": "stream",
     "text": [
      "Epoch: 8/20  | Training accuracy: 0.8190905448717949  | Training loss: 0.5271407961845398\n"
     ]
    },
    {
     "name": "stderr",
     "output_type": "stream",
     "text": [
      "100%|██████████████████████████████████████████████████████████████████████████████████| 78/78 [00:19<00:00,  3.95it/s]\n"
     ]
    },
    {
     "name": "stdout",
     "output_type": "stream",
     "text": [
      "Test accuracy: 0.682792467948718\n"
     ]
    },
    {
     "name": "stderr",
     "output_type": "stream",
     "text": [
      "100%|████████████████████████████████████████████████████████████████████████████████| 390/390 [10:24<00:00,  1.59s/it]\n"
     ]
    },
    {
     "name": "stdout",
     "output_type": "stream",
     "text": [
      "Epoch: 9/20  | Training accuracy: 0.8406850961538461  | Training loss: 0.46897315979003906\n"
     ]
    },
    {
     "name": "stderr",
     "output_type": "stream",
     "text": [
      "100%|██████████████████████████████████████████████████████████████████████████████████| 78/78 [00:19<00:00,  3.92it/s]\n"
     ]
    },
    {
     "name": "stdout",
     "output_type": "stream",
     "text": [
      "Test accuracy: 0.6768830128205128\n"
     ]
    },
    {
     "name": "stderr",
     "output_type": "stream",
     "text": [
      "100%|████████████████████████████████████████████████████████████████████████████████| 390/390 [10:23<00:00,  1.60s/it]\n"
     ]
    },
    {
     "name": "stdout",
     "output_type": "stream",
     "text": [
      "Epoch: 10/20  | Training accuracy: 0.8602363782051282  | Training loss: 0.40817025303840637\n"
     ]
    },
    {
     "name": "stderr",
     "output_type": "stream",
     "text": [
      "100%|██████████████████████████████████████████████████████████████████████████████████| 78/78 [00:19<00:00,  3.94it/s]\n"
     ]
    },
    {
     "name": "stdout",
     "output_type": "stream",
     "text": [
      "Test accuracy: 0.6841947115384616\n"
     ]
    },
    {
     "name": "stderr",
     "output_type": "stream",
     "text": [
      "100%|████████████████████████████████████████████████████████████████████████████████| 390/390 [10:21<00:00,  1.59s/it]\n"
     ]
    },
    {
     "name": "stdout",
     "output_type": "stream",
     "text": [
      "Epoch: 11/20  | Training accuracy: 0.8782852564102565  | Training loss: 0.35594648122787476\n"
     ]
    },
    {
     "name": "stderr",
     "output_type": "stream",
     "text": [
      "100%|██████████████████████████████████████████████████████████████████████████████████| 78/78 [00:19<00:00,  3.95it/s]\n"
     ]
    },
    {
     "name": "stdout",
     "output_type": "stream",
     "text": [
      "Test accuracy: 0.6704727564102564\n"
     ]
    },
    {
     "name": "stderr",
     "output_type": "stream",
     "text": [
      "100%|████████████████████████████████████████████████████████████████████████████████| 390/390 [10:19<00:00,  1.58s/it]\n"
     ]
    },
    {
     "name": "stdout",
     "output_type": "stream",
     "text": [
      "Epoch: 12/20  | Training accuracy: 0.8900240384615384  | Training loss: 0.32763877511024475\n"
     ]
    },
    {
     "name": "stderr",
     "output_type": "stream",
     "text": [
      "100%|██████████████████████████████████████████████████████████████████████████████████| 78/78 [00:19<00:00,  3.93it/s]\n"
     ]
    },
    {
     "name": "stdout",
     "output_type": "stream",
     "text": [
      "Test accuracy: 0.676582532051282\n"
     ]
    },
    {
     "name": "stderr",
     "output_type": "stream",
     "text": [
      "100%|████████████████████████████████████████████████████████████████████████████████| 390/390 [10:20<00:00,  1.60s/it]\n"
     ]
    },
    {
     "name": "stdout",
     "output_type": "stream",
     "text": [
      "Epoch: 13/20  | Training accuracy: 0.9036658653846154  | Training loss: 0.284779816865921\n"
     ]
    },
    {
     "name": "stderr",
     "output_type": "stream",
     "text": [
      "100%|██████████████████████████████████████████████████████████████████████████████████| 78/78 [00:19<00:00,  3.95it/s]\n"
     ]
    },
    {
     "name": "stdout",
     "output_type": "stream",
     "text": [
      "Test accuracy: 0.6703725961538461\n"
     ]
    },
    {
     "name": "stderr",
     "output_type": "stream",
     "text": [
      "100%|████████████████████████████████████████████████████████████████████████████████| 390/390 [10:23<00:00,  1.59s/it]\n"
     ]
    },
    {
     "name": "stdout",
     "output_type": "stream",
     "text": [
      "Epoch: 14/20  | Training accuracy: 0.9129006410256411  | Training loss: 0.26108843088150024\n"
     ]
    },
    {
     "name": "stderr",
     "output_type": "stream",
     "text": [
      "100%|██████████████████████████████████████████████████████████████████████████████████| 78/78 [00:19<00:00,  3.93it/s]\n"
     ]
    },
    {
     "name": "stdout",
     "output_type": "stream",
     "text": [
      "Test accuracy: 0.6637620192307693\n"
     ]
    },
    {
     "name": "stderr",
     "output_type": "stream",
     "text": [
      "100%|████████████████████████████████████████████████████████████████████████████████| 390/390 [10:24<00:00,  1.60s/it]\n"
     ]
    },
    {
     "name": "stdout",
     "output_type": "stream",
     "text": [
      "Epoch: 15/20  | Training accuracy: 0.9222355769230769  | Training loss: 0.2328091412782669\n"
     ]
    },
    {
     "name": "stderr",
     "output_type": "stream",
     "text": [
      "100%|██████████████████████████████████████████████████████████████████████████████████| 78/78 [00:19<00:00,  3.90it/s]\n"
     ]
    },
    {
     "name": "stdout",
     "output_type": "stream",
     "text": [
      "Test accuracy: 0.6670673076923077\n"
     ]
    },
    {
     "name": "stderr",
     "output_type": "stream",
     "text": [
      "100%|████████████████████████████████████████████████████████████████████████████████| 390/390 [10:24<00:00,  1.59s/it]\n"
     ]
    },
    {
     "name": "stdout",
     "output_type": "stream",
     "text": [
      "Epoch: 16/20  | Training accuracy: 0.9356570512820512  | Training loss: 0.19722846150398254\n"
     ]
    },
    {
     "name": "stderr",
     "output_type": "stream",
     "text": [
      "100%|██████████████████████████████████████████████████████████████████████████████████| 78/78 [00:19<00:00,  3.94it/s]\n"
     ]
    },
    {
     "name": "stdout",
     "output_type": "stream",
     "text": [
      "Test accuracy: 0.6605568910256411\n"
     ]
    },
    {
     "name": "stderr",
     "output_type": "stream",
     "text": [
      "100%|████████████████████████████████████████████████████████████████████████████████| 390/390 [10:22<00:00,  1.60s/it]\n"
     ]
    },
    {
     "name": "stdout",
     "output_type": "stream",
     "text": [
      "Epoch: 17/20  | Training accuracy: 0.9415865384615385  | Training loss: 0.17786283791065216\n"
     ]
    },
    {
     "name": "stderr",
     "output_type": "stream",
     "text": [
      "100%|██████████████████████████████████████████████████████████████████████████████████| 78/78 [00:19<00:00,  3.94it/s]\n"
     ]
    },
    {
     "name": "stdout",
     "output_type": "stream",
     "text": [
      "Test accuracy: 0.66796875\n"
     ]
    },
    {
     "name": "stderr",
     "output_type": "stream",
     "text": [
      "100%|████████████████████████████████████████████████████████████████████████████████| 390/390 [10:26<00:00,  1.61s/it]\n"
     ]
    },
    {
     "name": "stdout",
     "output_type": "stream",
     "text": [
      "Epoch: 18/20  | Training accuracy: 0.9481169871794872  | Training loss: 0.15895798802375793\n"
     ]
    },
    {
     "name": "stderr",
     "output_type": "stream",
     "text": [
      "100%|██████████████████████████████████████████████████████████████████████████████████| 78/78 [00:19<00:00,  3.94it/s]\n"
     ]
    },
    {
     "name": "stdout",
     "output_type": "stream",
     "text": [
      "Test accuracy: 0.6850961538461539\n"
     ]
    },
    {
     "name": "stderr",
     "output_type": "stream",
     "text": [
      "100%|████████████████████████████████████████████████████████████████████████████████| 390/390 [10:27<00:00,  1.60s/it]\n"
     ]
    },
    {
     "name": "stdout",
     "output_type": "stream",
     "text": [
      "Epoch: 19/20  | Training accuracy: 0.9520032051282051  | Training loss: 0.14129625260829926\n"
     ]
    },
    {
     "name": "stderr",
     "output_type": "stream",
     "text": [
      "100%|██████████████████████████████████████████████████████████████████████████████████| 78/78 [00:19<00:00,  3.89it/s]\n"
     ]
    },
    {
     "name": "stdout",
     "output_type": "stream",
     "text": [
      "Test accuracy: 0.6805889423076923\n"
     ]
    }
   ],
   "source": [
    "train(model, epochs, dropout_probs, batch_size, data, 'saver')"
   ]
  },
  {
   "cell_type": "markdown",
   "metadata": {},
   "source": [
    "### Step 6 Create training set vectors | Define Inference function"
   ]
  },
  {
   "cell_type": "markdown",
   "metadata": {},
   "source": [
    "![](helper_images/conv_model_vectors.png)"
   ]
  },
  {
   "cell_type": "markdown",
   "metadata": {},
   "source": [
    "![](helper_images/hamming.png)"
   ]
  },
  {
   "cell_type": "code",
   "execution_count": 2,
   "metadata": {},
   "outputs": [],
   "source": [
    "def create_training_set_vectors(model, \n",
    "                                X_train, \n",
    "                                y_train,\n",
    "                                batch_size,\n",
    "                                checkpoint_path, \n",
    "                                image_size, \n",
    "                                distance='hamming'):\n",
    "    \n",
    "    '''\n",
    "    Creates training set vectors and saves them in a pickle file.\n",
    "    \n",
    "    :param model: CNN model\n",
    "    :param X_train: numpy array, loaded training set images\n",
    "    :param y_train: numpy array,loaded training set labels\n",
    "    :param batch_size: integer, number of samples to put trhough the model at once\n",
    "    :param checkpoint_path: string, path to the model checkpoint\n",
    "    :param image_size: tuple, single image (height, width)\n",
    "    :param distance: string, type of distance to be used, \n",
    "                             this parameter is used to choose a way how to prepare and save training set vectors\n",
    "    '''\n",
    "            \n",
    "    #Define session\n",
    "    session = tf.Session()\n",
    "    session.run(tf.global_variables_initializer())\n",
    "    \n",
    "    #restore session\n",
    "    saver = tf.train.Saver()\n",
    "    saver.restore(session, checkpoint_path)\n",
    "    \n",
    "    dense_2_features = []\n",
    "    dense_4_features = []\n",
    "\n",
    "    #iterate through training set\n",
    "    for ii in tqdm(range(len(X_train) // batch_size)):\n",
    "        start_id = ii*batch_size\n",
    "        end_id = start_id + batch_size\n",
    "\n",
    "        X_batch = X_train[start_id:end_id]\n",
    "\n",
    "        feed_dict = {model.inputs:X_batch, \n",
    "                     model.dropout_rate:0.0}\n",
    "        \n",
    "        dense_2, dense_4 = session.run([model.dense_2_features, model.dense_4_features], feed_dict=feed_dict)\n",
    "        \n",
    "        dense_2_features.append(dense_2)\n",
    "        dense_4_features.append(dense_4)\n",
    "        \n",
    "    dense_2_features = np.vstack(dense_2_features)\n",
    "    dense_4_features = np.vstack(dense_4_features)\n",
    "    #hamming distance - vectors processing\n",
    "    if distance == 'hamming':\n",
    "        dense_2_features = np.where(dense_2_features < 0.5, 0, 1) #binarize vectors\n",
    "        dense_4_features = np.where(dense_4_features < 0.5, 0, 1)\n",
    "        \n",
    "        training_vectors = np.hstack((dense_2_features, dense_4_features))\n",
    "        with open('hamming_train_vectors.pickle', 'wb') as f:\n",
    "            pickle.dump(training_vectors, f)\n",
    "            \n",
    "    #cosine distance - vectors processing\n",
    "    elif distance == 'cosine':\n",
    "        training_vectors = np.hstack((dense_2_features, dense_4_features))\n",
    "        training_vectors = np.hstack((training_vectors, color_features[:len(training_vectors)]))\n",
    "        with open('cosine_train_vectors.pickle', 'wb') as f:\n",
    "            pickle.dump(training_vectors, f)"
   ]
  },
  {
   "cell_type": "code",
   "execution_count": 6,
   "metadata": {},
   "outputs": [],
   "source": [
    "def create_training_set_vectors_with_colors(model, \n",
    "                                            X_train, \n",
    "                                            y_train,\n",
    "                                            batch_size,\n",
    "                                            checkpoint_path, \n",
    "                                            image_size, \n",
    "                                            distance='hamming'):\n",
    "    \n",
    "    '''\n",
    "    Creates training set vectors and saves them in a pickle file.\n",
    "    \n",
    "    :param model: CNN model\n",
    "    :param X_train: numpy array, loaded training set images\n",
    "    :param y_train: numpy array,loaded training set labels\n",
    "    :param batch_size: integer, number of samples to put trhough the model at once\n",
    "    :param checkpoint_path: string, path to the model checkpoint\n",
    "    :param image_size: tuple, single image (height, width)\n",
    "    :param distance: string, type of distance to be used, \n",
    "                             this parameter is used to choose a way how to prepare and save training set vectors\n",
    "    '''\n",
    "            \n",
    "    #Define session\n",
    "    session = tf.Session()\n",
    "    session.run(tf.global_variables_initializer())\n",
    "    \n",
    "    #restore session\n",
    "    saver = tf.train.Saver()\n",
    "    saver.restore(session, checkpoint_path)\n",
    "    \n",
    "    dense_2_features = []\n",
    "    dense_4_features = []\n",
    "    \n",
    "    ##########################################################################\n",
    "    ### Calculate color feature vectors for each image in the training set ###\n",
    "    color_features = []\n",
    "    for img in X_train:\n",
    "        channels = cv2.split(img)\n",
    "        features = []\n",
    "        for chan in channels:\n",
    "            hist = cv2.calcHist([chan], [0], None, [256], [0, 256])\n",
    "            features.append(hist)\n",
    "            \n",
    "        color_features.append(np.vstack(features).squeeze())\n",
    "    ##########################################################################\n",
    "    \n",
    "    #iterate through training set\n",
    "    for ii in tqdm(range(len(X_train) // batch_size)):\n",
    "        start_id = ii*batch_size\n",
    "        end_id = start_id + batch_size\n",
    "\n",
    "        X_batch = X_train[start_id:end_id]\n",
    "\n",
    "        feed_dict = {model.inputs:X_batch, \n",
    "                     model.dropout_rate:0.0}\n",
    "        \n",
    "        dense_2, dense_4 = session.run([model.dense_2_features, model.dense_4_features], feed_dict=feed_dict)\n",
    "        \n",
    "        dense_2_features.append(dense_2)\n",
    "        dense_4_features.append(dense_4)\n",
    "        \n",
    "    dense_2_features = np.vstack(dense_2_features)\n",
    "    dense_4_features = np.vstack(dense_4_features)\n",
    "    #hamming distance - vectors processing\n",
    "    if distance == 'hamming':\n",
    "        dense_2_features = np.where(dense_2_features < 0.5, 0, 1) #binarize vectors\n",
    "        dense_4_features = np.where(dense_4_features < 0.5, 0, 1)\n",
    "        \n",
    "        training_vectors = np.hstack((dense_2_features, dense_4_features))\n",
    "        with open('hamming_train_vectors.pickle', 'wb') as f:\n",
    "            pickle.dump(training_vectors, f)\n",
    "            \n",
    "    #cosine distance - vectors processing\n",
    "    elif distance == 'cosine':\n",
    "        training_vectors = np.hstack((dense_2_features, dense_4_features))\n",
    "        training_vectors = np.hstack((training_vectors, color_features[:len(training_vectors)]))\n",
    "        with open('cosine_train_vectors.pickle', 'wb') as f:\n",
    "            pickle.dump(training_vectors, f)\n",
    "            \n",
    "    #########################################################################\n",
    "    ### Save training set color feature vectors to a separate pickle file ###\n",
    "    with open('color_vectors.pickle', 'wb') as f:\n",
    "        pickle.dump(color_features[:len(training_vectors)], f)\n",
    "    #########################################################################"
   ]
  },
  {
   "cell_type": "code",
   "execution_count": 46,
   "metadata": {},
   "outputs": [],
   "source": [
    "model = ImageSearchModel(learning_rate=learning_rate, image_size=image_size)"
   ]
  },
  {
   "cell_type": "code",
   "execution_count": 80,
   "metadata": {
    "scrolled": true
   },
   "outputs": [
    {
     "name": "stdout",
     "output_type": "stream",
     "text": [
      "INFO:tensorflow:Restoring parameters from saver/model_epoch_5.ckpt\n"
     ]
    },
    {
     "name": "stderr",
     "output_type": "stream",
     "text": [
      "\n",
      "  0%|                                                                                          | 0/390 [00:00<?, ?it/s]\n",
      "  0%|▏                                                                                 | 1/390 [00:00<02:02,  3.18it/s]\n",
      "  1%|▍                                                                                 | 2/390 [00:00<01:56,  3.33it/s]\n",
      "  1%|▋                                                                                 | 3/390 [00:00<01:53,  3.41it/s]\n",
      "  1%|▊                                                                                 | 4/390 [00:01<01:52,  3.42it/s]\n",
      "  1%|█                                                                                 | 5/390 [00:01<01:51,  3.45it/s]\n",
      "  2%|█▎                                                                                | 6/390 [00:01<01:48,  3.53it/s]\n",
      "  2%|█▍                                                                                | 7/390 [00:01<01:46,  3.60it/s]\n",
      "  2%|█▋                                                                                | 8/390 [00:02<01:45,  3.63it/s]\n",
      "  2%|█▉                                                                                | 9/390 [00:02<01:43,  3.66it/s]\n",
      "  3%|██                                                                               | 10/390 [00:02<01:45,  3.61it/s]\n",
      "  3%|██▎                                                                              | 11/390 [00:03<01:44,  3.63it/s]\n",
      "  3%|██▍                                                                              | 12/390 [00:03<01:46,  3.56it/s]\n",
      "  3%|██▋                                                                              | 13/390 [00:03<01:43,  3.63it/s]\n",
      "  4%|██▉                                                                              | 14/390 [00:03<01:41,  3.70it/s]\n",
      "  4%|███                                                                              | 15/390 [00:04<01:40,  3.75it/s]\n",
      "  4%|███▎                                                                             | 16/390 [00:04<01:38,  3.78it/s]\n",
      "  4%|███▌                                                                             | 17/390 [00:04<01:38,  3.81it/s]\n",
      "  5%|███▋                                                                             | 18/390 [00:04<01:37,  3.82it/s]\n",
      "  5%|███▉                                                                             | 19/390 [00:05<01:36,  3.83it/s]\n",
      "  5%|████▏                                                                            | 20/390 [00:05<01:36,  3.83it/s]\n",
      "  5%|████▎                                                                            | 21/390 [00:05<01:36,  3.84it/s]\n",
      "  6%|████▌                                                                            | 22/390 [00:05<01:36,  3.82it/s]\n",
      "  6%|████▊                                                                            | 23/390 [00:06<01:36,  3.82it/s]\n",
      "  6%|████▉                                                                            | 24/390 [00:06<01:35,  3.83it/s]\n",
      "  6%|█████▏                                                                           | 25/390 [00:06<01:35,  3.83it/s]\n",
      "  7%|█████▍                                                                           | 26/390 [00:06<01:34,  3.84it/s]\n",
      "  7%|█████▌                                                                           | 27/390 [00:07<01:35,  3.78it/s]\n",
      "  7%|█████▊                                                                           | 28/390 [00:07<01:36,  3.74it/s]\n",
      "  7%|██████                                                                           | 29/390 [00:07<01:35,  3.77it/s]\n",
      "  8%|██████▏                                                                          | 30/390 [00:08<01:38,  3.65it/s]\n",
      "  8%|██████▍                                                                          | 31/390 [00:08<01:37,  3.67it/s]\n",
      "  8%|██████▋                                                                          | 32/390 [00:08<01:37,  3.67it/s]\n",
      "  8%|██████▊                                                                          | 33/390 [00:08<01:37,  3.66it/s]\n",
      "  9%|███████                                                                          | 34/390 [00:09<01:39,  3.59it/s]\n",
      "  9%|███████▎                                                                         | 35/390 [00:09<01:37,  3.66it/s]\n",
      "  9%|███████▍                                                                         | 36/390 [00:09<01:35,  3.70it/s]\n",
      "  9%|███████▋                                                                         | 37/390 [00:09<01:34,  3.75it/s]\n",
      " 10%|███████▉                                                                         | 38/390 [00:10<01:33,  3.77it/s]\n",
      " 10%|████████                                                                         | 39/390 [00:10<01:32,  3.79it/s]\n",
      " 10%|████████▎                                                                        | 40/390 [00:10<01:32,  3.80it/s]\n",
      " 11%|████████▌                                                                        | 41/390 [00:11<01:31,  3.81it/s]\n",
      " 11%|████████▋                                                                        | 42/390 [00:11<01:31,  3.79it/s]\n",
      " 11%|████████▉                                                                        | 43/390 [00:11<01:31,  3.80it/s]\n",
      " 11%|█████████▏                                                                       | 44/390 [00:11<01:33,  3.70it/s]\n",
      " 12%|█████████▎                                                                       | 45/390 [00:12<01:32,  3.72it/s]\n",
      " 12%|█████████▌                                                                       | 46/390 [00:12<01:31,  3.75it/s]\n",
      " 12%|█████████▊                                                                       | 47/390 [00:12<01:30,  3.78it/s]\n",
      " 12%|█████████▉                                                                       | 48/390 [00:12<01:30,  3.77it/s]\n",
      " 13%|██████████▏                                                                      | 49/390 [00:13<01:32,  3.70it/s]\n",
      " 13%|██████████▍                                                                      | 50/390 [00:13<01:30,  3.74it/s]\n",
      " 13%|██████████▌                                                                      | 51/390 [00:13<01:30,  3.76it/s]\n",
      " 13%|██████████▊                                                                      | 52/390 [00:13<01:29,  3.78it/s]\n",
      " 14%|███████████                                                                      | 53/390 [00:14<01:29,  3.78it/s]\n",
      " 14%|███████████▏                                                                     | 54/390 [00:14<01:30,  3.70it/s]\n",
      " 14%|███████████▍                                                                     | 55/390 [00:14<01:30,  3.70it/s]\n",
      " 14%|███████████▋                                                                     | 56/390 [00:15<01:34,  3.55it/s]\n",
      " 15%|███████████▊                                                                     | 57/390 [00:15<01:32,  3.59it/s]\n",
      " 15%|████████████                                                                     | 58/390 [00:15<01:32,  3.61it/s]\n",
      " 15%|████████████▎                                                                    | 59/390 [00:15<01:31,  3.61it/s]\n",
      " 15%|████████████▍                                                                    | 60/390 [00:16<01:32,  3.57it/s]\n",
      " 16%|████████████▋                                                                    | 61/390 [00:16<01:30,  3.64it/s]\n",
      " 16%|████████████▉                                                                    | 62/390 [00:16<01:29,  3.68it/s]\n",
      " 16%|█████████████                                                                    | 63/390 [00:16<01:27,  3.73it/s]\n",
      " 16%|█████████████▎                                                                   | 64/390 [00:17<01:26,  3.75it/s]\n",
      " 17%|█████████████▌                                                                   | 65/390 [00:17<01:27,  3.71it/s]\n",
      " 17%|█████████████▋                                                                   | 66/390 [00:17<01:28,  3.67it/s]\n",
      " 17%|█████████████▉                                                                   | 67/390 [00:18<01:29,  3.61it/s]\n",
      " 17%|██████████████                                                                   | 68/390 [00:18<01:27,  3.67it/s]\n",
      " 18%|██████████████▎                                                                  | 69/390 [00:18<01:26,  3.70it/s]\n",
      " 18%|██████████████▌                                                                  | 70/390 [00:18<01:26,  3.70it/s]\n",
      " 18%|██████████████▋                                                                  | 71/390 [00:19<01:26,  3.67it/s]\n",
      " 18%|██████████████▉                                                                  | 72/390 [00:19<01:27,  3.63it/s]\n",
      " 19%|███████████████▏                                                                 | 73/390 [00:19<01:26,  3.65it/s]\n",
      " 19%|███████████████▎                                                                 | 74/390 [00:19<01:25,  3.71it/s]\n",
      " 19%|███████████████▌                                                                 | 75/390 [00:20<01:24,  3.74it/s]\n",
      " 19%|███████████████▊                                                                 | 76/390 [00:20<01:25,  3.68it/s]\n",
      " 20%|███████████████▉                                                                 | 77/390 [00:20<01:25,  3.65it/s]\n",
      " 20%|████████████████▏                                                                | 78/390 [00:21<01:25,  3.65it/s]\n",
      " 20%|████████████████▍                                                                | 79/390 [00:21<01:24,  3.68it/s]\n",
      " 21%|████████████████▌                                                                | 80/390 [00:21<01:24,  3.67it/s]\n",
      " 21%|████████████████▊                                                                | 81/390 [00:21<01:27,  3.54it/s]\n",
      " 21%|█████████████████                                                                | 82/390 [00:22<01:25,  3.61it/s]\n",
      " 21%|█████████████████▏                                                               | 83/390 [00:22<01:25,  3.60it/s]\n",
      " 22%|█████████████████▍                                                               | 84/390 [00:22<01:25,  3.58it/s]\n",
      " 22%|█████████████████▋                                                               | 85/390 [00:23<01:23,  3.65it/s]\n",
      " 22%|█████████████████▊                                                               | 86/390 [00:23<01:25,  3.55it/s]\n",
      " 22%|██████████████████                                                               | 87/390 [00:23<01:24,  3.59it/s]\n",
      " 23%|██████████████████▎                                                              | 88/390 [00:23<01:23,  3.64it/s]\n",
      " 23%|██████████████████▍                                                              | 89/390 [00:24<01:22,  3.64it/s]\n",
      " 23%|██████████████████▋                                                              | 90/390 [00:24<01:21,  3.66it/s]\n",
      " 23%|██████████████████▉                                                              | 91/390 [00:24<01:21,  3.65it/s]\n",
      " 24%|███████████████████                                                              | 92/390 [00:24<01:20,  3.70it/s]\n",
      " 24%|███████████████████▎                                                             | 93/390 [00:25<01:19,  3.73it/s]\n",
      " 24%|███████████████████▌                                                             | 94/390 [00:25<01:19,  3.75it/s]\n",
      " 24%|███████████████████▋                                                             | 95/390 [00:25<01:18,  3.77it/s]\n",
      " 25%|███████████████████▉                                                             | 96/390 [00:25<01:17,  3.82it/s]\n",
      " 25%|████████████████████▏                                                            | 97/390 [00:26<01:16,  3.83it/s]\n",
      " 25%|████████████████████▎                                                            | 98/390 [00:26<01:15,  3.85it/s]\n",
      " 25%|████████████████████▌                                                            | 99/390 [00:26<01:15,  3.86it/s]\n",
      " 26%|████████████████████▌                                                           | 100/390 [00:27<01:14,  3.87it/s]\n",
      " 26%|████████████████████▋                                                           | 101/390 [00:27<01:14,  3.88it/s]\n",
      " 26%|████████████████████▉                                                           | 102/390 [00:27<01:14,  3.87it/s]\n",
      " 26%|█████████████████████▏                                                          | 103/390 [00:27<01:14,  3.85it/s]\n",
      " 27%|█████████████████████▎                                                          | 104/390 [00:28<01:15,  3.78it/s]\n",
      " 27%|█████████████████████▌                                                          | 105/390 [00:28<01:15,  3.78it/s]\n",
      " 27%|█████████████████████▋                                                          | 106/390 [00:28<01:15,  3.79it/s]\n",
      " 27%|█████████████████████▉                                                          | 107/390 [00:28<01:16,  3.72it/s]\n",
      " 28%|██████████████████████▏                                                         | 108/390 [00:29<01:14,  3.77it/s]\n",
      " 28%|██████████████████████▎                                                         | 109/390 [00:29<01:14,  3.78it/s]\n",
      " 28%|██████████████████████▌                                                         | 110/390 [00:29<01:14,  3.78it/s]\n",
      " 28%|██████████████████████▊                                                         | 111/390 [00:29<01:13,  3.79it/s]\n",
      " 29%|██████████████████████▉                                                         | 112/390 [00:30<01:15,  3.67it/s]\n",
      " 29%|███████████████████████▏                                                        | 113/390 [00:30<01:15,  3.68it/s]\n",
      " 29%|███████████████████████▍                                                        | 114/390 [00:30<01:14,  3.69it/s]\n",
      " 29%|███████████████████████▌                                                        | 115/390 [00:31<01:15,  3.66it/s]\n",
      " 30%|███████████████████████▊                                                        | 116/390 [00:31<01:14,  3.67it/s]\n",
      " 30%|████████████████████████                                                        | 117/390 [00:31<01:13,  3.70it/s]\n",
      " 30%|████████████████████████▏                                                       | 118/390 [00:31<01:12,  3.74it/s]\n",
      " 31%|████████████████████████▍                                                       | 119/390 [00:32<01:11,  3.77it/s]\n",
      " 31%|████████████████████████▌                                                       | 120/390 [00:32<01:11,  3.76it/s]\n",
      " 31%|████████████████████████▊                                                       | 121/390 [00:32<01:10,  3.79it/s]\n",
      " 31%|█████████████████████████                                                       | 122/390 [00:32<01:10,  3.79it/s]\n",
      " 32%|█████████████████████████▏                                                      | 123/390 [00:33<01:09,  3.82it/s]\n",
      " 32%|█████████████████████████▍                                                      | 124/390 [00:33<01:09,  3.82it/s]\n",
      " 32%|█████████████████████████▋                                                      | 125/390 [00:33<01:09,  3.83it/s]\n",
      " 32%|█████████████████████████▊                                                      | 126/390 [00:33<01:08,  3.83it/s]\n",
      " 33%|██████████████████████████                                                      | 127/390 [00:34<01:08,  3.84it/s]\n",
      " 33%|██████████████████████████▎                                                     | 128/390 [00:34<01:08,  3.81it/s]\n",
      " 33%|██████████████████████████▍                                                     | 129/390 [00:34<01:09,  3.73it/s]\n",
      " 33%|██████████████████████████▋                                                     | 130/390 [00:35<01:10,  3.68it/s]\n",
      " 34%|██████████████████████████▊                                                     | 131/390 [00:35<01:09,  3.73it/s]\n",
      " 34%|███████████████████████████                                                     | 132/390 [00:35<01:10,  3.67it/s]\n",
      " 34%|███████████████████████████▎                                                    | 133/390 [00:35<01:09,  3.71it/s]\n",
      " 34%|███████████████████████████▍                                                    | 134/390 [00:36<01:08,  3.73it/s]\n",
      " 35%|███████████████████████████▋                                                    | 135/390 [00:36<01:08,  3.73it/s]\n"
     ]
    },
    {
     "name": "stderr",
     "output_type": "stream",
     "text": [
      " 35%|███████████████████████████▉                                                    | 136/390 [00:36<01:07,  3.75it/s]\n",
      " 35%|████████████████████████████                                                    | 137/390 [00:36<01:06,  3.78it/s]\n",
      " 35%|████████████████████████████▎                                                   | 138/390 [00:37<01:06,  3.78it/s]\n",
      " 36%|████████████████████████████▌                                                   | 139/390 [00:37<01:06,  3.80it/s]\n",
      " 36%|████████████████████████████▋                                                   | 140/390 [00:37<01:05,  3.81it/s]\n",
      " 36%|████████████████████████████▉                                                   | 141/390 [00:37<01:05,  3.83it/s]\n",
      " 36%|█████████████████████████████▏                                                  | 142/390 [00:38<01:04,  3.84it/s]\n",
      " 37%|█████████████████████████████▎                                                  | 143/390 [00:38<01:04,  3.85it/s]\n",
      " 37%|█████████████████████████████▌                                                  | 144/390 [00:38<01:03,  3.85it/s]\n",
      " 37%|█████████████████████████████▋                                                  | 145/390 [00:38<01:03,  3.84it/s]\n",
      " 37%|█████████████████████████████▉                                                  | 146/390 [00:39<01:03,  3.84it/s]\n",
      " 38%|██████████████████████████████▏                                                 | 147/390 [00:39<01:03,  3.84it/s]\n",
      " 38%|██████████████████████████████▎                                                 | 148/390 [00:39<01:03,  3.82it/s]\n",
      " 38%|██████████████████████████████▌                                                 | 149/390 [00:39<01:03,  3.82it/s]\n",
      " 38%|██████████████████████████████▊                                                 | 150/390 [00:40<01:03,  3.81it/s]\n",
      " 39%|██████████████████████████████▉                                                 | 151/390 [00:40<01:02,  3.82it/s]\n",
      " 39%|███████████████████████████████▏                                                | 152/390 [00:40<01:02,  3.82it/s]\n",
      " 39%|███████████████████████████████▍                                                | 153/390 [00:41<01:01,  3.83it/s]\n",
      " 39%|███████████████████████████████▌                                                | 154/390 [00:41<01:01,  3.83it/s]\n",
      " 40%|███████████████████████████████▊                                                | 155/390 [00:41<01:01,  3.83it/s]\n",
      " 40%|████████████████████████████████                                                | 156/390 [00:41<01:01,  3.82it/s]\n",
      " 40%|████████████████████████████████▏                                               | 157/390 [00:42<01:01,  3.82it/s]\n",
      " 41%|████████████████████████████████▍                                               | 158/390 [00:42<01:01,  3.80it/s]\n",
      " 41%|████████████████████████████████▌                                               | 159/390 [00:42<01:00,  3.80it/s]\n",
      " 41%|████████████████████████████████▊                                               | 160/390 [00:42<01:01,  3.74it/s]\n",
      " 41%|█████████████████████████████████                                               | 161/390 [00:43<01:01,  3.74it/s]\n",
      " 42%|█████████████████████████████████▏                                              | 162/390 [00:43<01:01,  3.71it/s]\n",
      " 42%|█████████████████████████████████▍                                              | 163/390 [00:43<01:00,  3.73it/s]\n",
      " 42%|█████████████████████████████████▋                                              | 164/390 [00:43<01:00,  3.74it/s]\n",
      " 42%|█████████████████████████████████▊                                              | 165/390 [00:44<01:01,  3.68it/s]\n",
      " 43%|██████████████████████████████████                                              | 166/390 [00:44<01:01,  3.66it/s]\n",
      " 43%|██████████████████████████████████▎                                             | 167/390 [00:44<01:00,  3.70it/s]\n",
      " 43%|██████████████████████████████████▍                                             | 168/390 [00:45<00:59,  3.71it/s]\n",
      " 43%|██████████████████████████████████▋                                             | 169/390 [00:45<00:59,  3.71it/s]\n",
      " 44%|██████████████████████████████████▊                                             | 170/390 [00:45<00:59,  3.73it/s]\n",
      " 44%|███████████████████████████████████                                             | 171/390 [00:45<00:58,  3.75it/s]\n",
      " 44%|███████████████████████████████████▎                                            | 172/390 [00:46<00:57,  3.77it/s]\n",
      " 44%|███████████████████████████████████▍                                            | 173/390 [00:46<00:57,  3.76it/s]\n",
      " 45%|███████████████████████████████████▋                                            | 174/390 [00:46<00:57,  3.74it/s]\n",
      " 45%|███████████████████████████████████▉                                            | 175/390 [00:46<00:57,  3.75it/s]\n",
      " 45%|████████████████████████████████████                                            | 176/390 [00:47<00:56,  3.77it/s]\n",
      " 45%|████████████████████████████████████▎                                           | 177/390 [00:47<00:56,  3.78it/s]\n",
      " 46%|████████████████████████████████████▌                                           | 178/390 [00:47<00:56,  3.77it/s]\n",
      " 46%|████████████████████████████████████▋                                           | 179/390 [00:47<00:56,  3.74it/s]\n",
      " 46%|████████████████████████████████████▉                                           | 180/390 [00:48<00:55,  3.75it/s]\n",
      " 46%|█████████████████████████████████████▏                                          | 181/390 [00:48<00:55,  3.79it/s]\n",
      " 47%|█████████████████████████████████████▎                                          | 182/390 [00:48<00:54,  3.80it/s]\n",
      " 47%|█████████████████████████████████████▌                                          | 183/390 [00:49<00:54,  3.77it/s]\n",
      " 47%|█████████████████████████████████████▋                                          | 184/390 [00:49<00:54,  3.79it/s]\n",
      " 47%|█████████████████████████████████████▉                                          | 185/390 [00:49<00:54,  3.79it/s]\n",
      " 48%|██████████████████████████████████████▏                                         | 186/390 [00:49<00:54,  3.77it/s]\n",
      " 48%|██████████████████████████████████████▎                                         | 187/390 [00:50<00:53,  3.77it/s]\n",
      " 48%|██████████████████████████████████████▌                                         | 188/390 [00:50<00:53,  3.76it/s]\n",
      " 48%|██████████████████████████████████████▊                                         | 189/390 [00:50<00:53,  3.73it/s]\n",
      " 49%|██████████████████████████████████████▉                                         | 190/390 [00:51<01:01,  3.23it/s]\n",
      " 49%|███████████████████████████████████████▏                                        | 191/390 [00:51<00:58,  3.38it/s]\n",
      " 49%|███████████████████████████████████████▍                                        | 192/390 [00:51<00:56,  3.48it/s]\n",
      " 49%|███████████████████████████████████████▌                                        | 193/390 [00:51<00:55,  3.56it/s]\n",
      " 50%|███████████████████████████████████████▊                                        | 194/390 [00:52<00:54,  3.62it/s]\n",
      " 50%|████████████████████████████████████████                                        | 195/390 [00:52<00:53,  3.64it/s]\n",
      " 50%|████████████████████████████████████████▏                                       | 196/390 [00:52<00:52,  3.67it/s]\n",
      " 51%|████████████████████████████████████████▍                                       | 197/390 [00:52<00:52,  3.71it/s]\n",
      " 51%|████████████████████████████████████████▌                                       | 198/390 [00:53<00:51,  3.71it/s]\n",
      " 51%|████████████████████████████████████████▊                                       | 199/390 [00:53<00:51,  3.71it/s]\n",
      " 51%|█████████████████████████████████████████                                       | 200/390 [00:53<00:50,  3.73it/s]\n",
      " 52%|█████████████████████████████████████████▏                                      | 201/390 [00:53<00:50,  3.75it/s]\n",
      " 52%|█████████████████████████████████████████▍                                      | 202/390 [00:54<00:50,  3.75it/s]\n",
      " 52%|█████████████████████████████████████████▋                                      | 203/390 [00:54<00:50,  3.72it/s]\n",
      " 52%|█████████████████████████████████████████▊                                      | 204/390 [00:54<00:49,  3.73it/s]\n",
      " 53%|██████████████████████████████████████████                                      | 205/390 [00:55<00:50,  3.68it/s]\n",
      " 53%|██████████████████████████████████████████▎                                     | 206/390 [00:55<00:50,  3.63it/s]\n",
      " 53%|██████████████████████████████████████████▍                                     | 207/390 [00:55<00:49,  3.71it/s]\n",
      " 53%|██████████████████████████████████████████▋                                     | 208/390 [00:55<00:49,  3.65it/s]\n",
      " 54%|██████████████████████████████████████████▊                                     | 209/390 [00:56<00:50,  3.60it/s]\n",
      " 54%|███████████████████████████████████████████                                     | 210/390 [00:56<00:49,  3.64it/s]\n",
      " 54%|███████████████████████████████████████████▎                                    | 211/390 [00:56<00:48,  3.69it/s]\n",
      " 54%|███████████████████████████████████████████▍                                    | 212/390 [00:56<00:48,  3.69it/s]\n",
      " 55%|███████████████████████████████████████████▋                                    | 213/390 [00:57<00:48,  3.68it/s]\n",
      " 55%|███████████████████████████████████████████▉                                    | 214/390 [00:57<00:48,  3.66it/s]\n",
      " 55%|████████████████████████████████████████████                                    | 215/390 [00:57<00:47,  3.70it/s]\n",
      " 55%|████████████████████████████████████████████▎                                   | 216/390 [00:58<00:46,  3.74it/s]\n",
      " 56%|████████████████████████████████████████████▌                                   | 217/390 [00:58<00:45,  3.78it/s]\n",
      " 56%|████████████████████████████████████████████▋                                   | 218/390 [00:58<00:45,  3.80it/s]\n",
      " 56%|████████████████████████████████████████████▉                                   | 219/390 [00:58<00:44,  3.83it/s]\n",
      " 56%|█████████████████████████████████████████████▏                                  | 220/390 [00:59<00:44,  3.84it/s]\n",
      " 57%|█████████████████████████████████████████████▎                                  | 221/390 [00:59<00:43,  3.85it/s]\n",
      " 57%|█████████████████████████████████████████████▌                                  | 222/390 [00:59<00:43,  3.85it/s]\n",
      " 57%|█████████████████████████████████████████████▋                                  | 223/390 [00:59<00:43,  3.86it/s]\n",
      " 57%|█████████████████████████████████████████████▉                                  | 224/390 [01:00<00:43,  3.82it/s]\n",
      " 58%|██████████████████████████████████████████████▏                                 | 225/390 [01:00<00:43,  3.79it/s]\n",
      " 58%|██████████████████████████████████████████████▎                                 | 226/390 [01:00<00:43,  3.79it/s]\n",
      " 58%|██████████████████████████████████████████████▌                                 | 227/390 [01:00<00:42,  3.80it/s]\n",
      " 58%|██████████████████████████████████████████████▊                                 | 228/390 [01:01<00:42,  3.81it/s]\n",
      " 59%|██████████████████████████████████████████████▉                                 | 229/390 [01:01<00:42,  3.82it/s]\n",
      " 59%|███████████████████████████████████████████████▏                                | 230/390 [01:01<00:41,  3.83it/s]\n",
      " 59%|███████████████████████████████████████████████▍                                | 231/390 [01:01<00:41,  3.83it/s]\n",
      " 59%|███████████████████████████████████████████████▌                                | 232/390 [01:02<00:41,  3.83it/s]\n",
      " 60%|███████████████████████████████████████████████▊                                | 233/390 [01:02<00:40,  3.85it/s]\n",
      " 60%|████████████████████████████████████████████████                                | 234/390 [01:02<00:40,  3.84it/s]\n",
      " 60%|████████████████████████████████████████████████▏                               | 235/390 [01:03<00:41,  3.72it/s]\n",
      " 61%|████████████████████████████████████████████████▍                               | 236/390 [01:03<00:41,  3.75it/s]\n",
      " 61%|████████████████████████████████████████████████▌                               | 237/390 [01:03<00:40,  3.78it/s]\n",
      " 61%|████████████████████████████████████████████████▊                               | 238/390 [01:03<00:40,  3.79it/s]\n",
      " 61%|█████████████████████████████████████████████████                               | 239/390 [01:04<00:39,  3.81it/s]\n",
      " 62%|█████████████████████████████████████████████████▏                              | 240/390 [01:04<00:39,  3.80it/s]\n",
      " 62%|█████████████████████████████████████████████████▍                              | 241/390 [01:04<00:39,  3.82it/s]\n",
      " 62%|█████████████████████████████████████████████████▋                              | 242/390 [01:04<00:38,  3.82it/s]\n",
      " 62%|█████████████████████████████████████████████████▊                              | 243/390 [01:05<00:38,  3.83it/s]\n",
      " 63%|██████████████████████████████████████████████████                              | 244/390 [01:05<00:38,  3.82it/s]\n",
      " 63%|██████████████████████████████████████████████████▎                             | 245/390 [01:05<00:37,  3.82it/s]\n",
      " 63%|██████████████████████████████████████████████████▍                             | 246/390 [01:05<00:37,  3.82it/s]\n",
      " 63%|██████████████████████████████████████████████████▋                             | 247/390 [01:06<00:37,  3.83it/s]\n",
      " 64%|██████████████████████████████████████████████████▊                             | 248/390 [01:06<00:37,  3.82it/s]\n",
      " 64%|███████████████████████████████████████████████████                             | 249/390 [01:06<00:36,  3.83it/s]\n",
      " 64%|███████████████████████████████████████████████████▎                            | 250/390 [01:06<00:36,  3.82it/s]\n",
      " 64%|███████████████████████████████████████████████████▍                            | 251/390 [01:07<00:36,  3.83it/s]\n",
      " 65%|███████████████████████████████████████████████████▋                            | 252/390 [01:07<00:36,  3.82it/s]\n",
      " 65%|███████████████████████████████████████████████████▉                            | 253/390 [01:07<00:35,  3.82it/s]\n",
      " 65%|████████████████████████████████████████████████████                            | 254/390 [01:07<00:35,  3.81it/s]\n",
      " 65%|████████████████████████████████████████████████████▎                           | 255/390 [01:08<00:35,  3.81it/s]\n",
      " 66%|████████████████████████████████████████████████████▌                           | 256/390 [01:08<00:35,  3.80it/s]\n",
      " 66%|████████████████████████████████████████████████████▋                           | 257/390 [01:08<00:35,  3.80it/s]\n",
      " 66%|████████████████████████████████████████████████████▉                           | 258/390 [01:09<00:34,  3.80it/s]\n",
      " 66%|█████████████████████████████████████████████████████▏                          | 259/390 [01:09<00:34,  3.81it/s]\n",
      " 67%|█████████████████████████████████████████████████████▎                          | 260/390 [01:09<00:34,  3.81it/s]\n",
      " 67%|█████████████████████████████████████████████████████▌                          | 261/390 [01:09<00:34,  3.79it/s]\n",
      " 67%|█████████████████████████████████████████████████████▋                          | 262/390 [01:10<00:33,  3.80it/s]\n",
      " 67%|█████████████████████████████████████████████████████▉                          | 263/390 [01:10<00:33,  3.80it/s]\n",
      " 68%|██████████████████████████████████████████████████████▏                         | 264/390 [01:10<00:33,  3.80it/s]\n",
      " 68%|██████████████████████████████████████████████████████▎                         | 265/390 [01:10<00:32,  3.80it/s]\n",
      " 68%|██████████████████████████████████████████████████████▌                         | 266/390 [01:11<00:32,  3.80it/s]\n",
      " 68%|██████████████████████████████████████████████████████▊                         | 267/390 [01:11<00:32,  3.80it/s]\n",
      " 69%|██████████████████████████████████████████████████████▉                         | 268/390 [01:11<00:32,  3.79it/s]\n",
      " 69%|███████████████████████████████████████████████████████▏                        | 269/390 [01:11<00:31,  3.80it/s]\n",
      " 69%|███████████████████████████████████████████████████████▍                        | 270/390 [01:12<00:31,  3.80it/s]\n",
      " 69%|███████████████████████████████████████████████████████▌                        | 271/390 [01:12<00:31,  3.81it/s]\n"
     ]
    },
    {
     "name": "stderr",
     "output_type": "stream",
     "text": [
      " 70%|███████████████████████████████████████████████████████▊                        | 272/390 [01:12<00:31,  3.79it/s]\n",
      " 70%|████████████████████████████████████████████████████████                        | 273/390 [01:12<00:30,  3.80it/s]\n",
      " 70%|████████████████████████████████████████████████████████▏                       | 274/390 [01:13<00:31,  3.70it/s]\n",
      " 71%|████████████████████████████████████████████████████████▍                       | 275/390 [01:13<00:31,  3.68it/s]\n",
      " 71%|████████████████████████████████████████████████████████▌                       | 276/390 [01:13<00:30,  3.69it/s]\n",
      " 71%|████████████████████████████████████████████████████████▊                       | 277/390 [01:14<00:30,  3.73it/s]\n",
      " 71%|█████████████████████████████████████████████████████████                       | 278/390 [01:14<00:30,  3.70it/s]\n",
      " 72%|█████████████████████████████████████████████████████████▏                      | 279/390 [01:14<00:29,  3.74it/s]\n",
      " 72%|█████████████████████████████████████████████████████████▍                      | 280/390 [01:14<00:29,  3.77it/s]\n",
      " 72%|█████████████████████████████████████████████████████████▋                      | 281/390 [01:15<00:28,  3.78it/s]\n",
      " 72%|█████████████████████████████████████████████████████████▊                      | 282/390 [01:15<00:28,  3.78it/s]\n",
      " 73%|██████████████████████████████████████████████████████████                      | 283/390 [01:15<00:28,  3.78it/s]\n",
      " 73%|██████████████████████████████████████████████████████████▎                     | 284/390 [01:15<00:28,  3.78it/s]\n",
      " 73%|██████████████████████████████████████████████████████████▍                     | 285/390 [01:16<00:27,  3.79it/s]\n",
      " 73%|██████████████████████████████████████████████████████████▋                     | 286/390 [01:16<00:27,  3.80it/s]\n",
      " 74%|██████████████████████████████████████████████████████████▊                     | 287/390 [01:16<00:27,  3.80it/s]\n",
      " 74%|███████████████████████████████████████████████████████████                     | 288/390 [01:16<00:26,  3.79it/s]\n",
      " 74%|███████████████████████████████████████████████████████████▎                    | 289/390 [01:17<00:26,  3.78it/s]\n",
      " 74%|███████████████████████████████████████████████████████████▍                    | 290/390 [01:17<00:26,  3.79it/s]\n",
      " 75%|███████████████████████████████████████████████████████████▋                    | 291/390 [01:17<00:26,  3.80it/s]\n",
      " 75%|███████████████████████████████████████████████████████████▉                    | 292/390 [01:18<00:25,  3.77it/s]\n",
      " 75%|████████████████████████████████████████████████████████████                    | 293/390 [01:18<00:25,  3.78it/s]\n",
      " 75%|████████████████████████████████████████████████████████████▎                   | 294/390 [01:18<00:25,  3.77it/s]\n",
      " 76%|████████████████████████████████████████████████████████████▌                   | 295/390 [01:18<00:25,  3.79it/s]\n",
      " 76%|████████████████████████████████████████████████████████████▋                   | 296/390 [01:19<00:24,  3.81it/s]\n",
      " 76%|████████████████████████████████████████████████████████████▉                   | 297/390 [01:19<00:24,  3.80it/s]\n",
      " 76%|█████████████████████████████████████████████████████████████▏                  | 298/390 [01:19<00:24,  3.77it/s]\n",
      " 77%|█████████████████████████████████████████████████████████████▎                  | 299/390 [01:19<00:24,  3.71it/s]\n",
      " 77%|█████████████████████████████████████████████████████████████▌                  | 300/390 [01:20<00:24,  3.68it/s]\n",
      " 77%|█████████████████████████████████████████████████████████████▋                  | 301/390 [01:20<00:24,  3.67it/s]\n",
      " 77%|█████████████████████████████████████████████████████████████▉                  | 302/390 [01:20<00:24,  3.63it/s]\n",
      " 78%|██████████████████████████████████████████████████████████████▏                 | 303/390 [01:21<00:24,  3.59it/s]\n",
      " 78%|██████████████████████████████████████████████████████████████▎                 | 304/390 [01:21<00:24,  3.56it/s]\n",
      " 78%|██████████████████████████████████████████████████████████████▌                 | 305/390 [01:21<00:23,  3.63it/s]\n",
      " 78%|██████████████████████████████████████████████████████████████▊                 | 306/390 [01:21<00:23,  3.59it/s]\n",
      " 79%|██████████████████████████████████████████████████████████████▉                 | 307/390 [01:22<00:23,  3.60it/s]\n",
      " 79%|███████████████████████████████████████████████████████████████▏                | 308/390 [01:22<00:23,  3.54it/s]\n",
      " 79%|███████████████████████████████████████████████████████████████▍                | 309/390 [01:22<00:22,  3.55it/s]\n",
      " 79%|███████████████████████████████████████████████████████████████▌                | 310/390 [01:22<00:22,  3.57it/s]\n",
      " 80%|███████████████████████████████████████████████████████████████▊                | 311/390 [01:23<00:22,  3.57it/s]\n",
      " 80%|████████████████████████████████████████████████████████████████                | 312/390 [01:23<00:21,  3.58it/s]\n",
      " 80%|████████████████████████████████████████████████████████████████▏               | 313/390 [01:23<00:21,  3.58it/s]\n",
      " 81%|████████████████████████████████████████████████████████████████▍               | 314/390 [01:24<00:21,  3.61it/s]\n",
      " 81%|████████████████████████████████████████████████████████████████▌               | 315/390 [01:24<00:20,  3.65it/s]\n",
      " 81%|████████████████████████████████████████████████████████████████▊               | 316/390 [01:24<00:20,  3.67it/s]\n",
      " 81%|█████████████████████████████████████████████████████████████████               | 317/390 [01:24<00:19,  3.70it/s]\n",
      " 82%|█████████████████████████████████████████████████████████████████▏              | 318/390 [01:25<00:19,  3.63it/s]\n",
      " 82%|█████████████████████████████████████████████████████████████████▍              | 319/390 [01:25<00:19,  3.59it/s]\n",
      " 82%|█████████████████████████████████████████████████████████████████▋              | 320/390 [01:25<00:19,  3.58it/s]\n",
      " 82%|█████████████████████████████████████████████████████████████████▊              | 321/390 [01:26<00:19,  3.59it/s]\n",
      " 83%|██████████████████████████████████████████████████████████████████              | 322/390 [01:26<00:18,  3.63it/s]\n",
      " 83%|██████████████████████████████████████████████████████████████████▎             | 323/390 [01:26<00:18,  3.60it/s]\n",
      " 83%|██████████████████████████████████████████████████████████████████▍             | 324/390 [01:26<00:18,  3.54it/s]\n",
      " 83%|██████████████████████████████████████████████████████████████████▋             | 325/390 [01:27<00:18,  3.52it/s]\n",
      " 84%|██████████████████████████████████████████████████████████████████▊             | 326/390 [01:27<00:17,  3.59it/s]\n",
      " 84%|███████████████████████████████████████████████████████████████████             | 327/390 [01:27<00:17,  3.59it/s]\n",
      " 84%|███████████████████████████████████████████████████████████████████▎            | 328/390 [01:27<00:17,  3.63it/s]\n",
      " 84%|███████████████████████████████████████████████████████████████████▍            | 329/390 [01:28<00:16,  3.65it/s]\n",
      " 85%|███████████████████████████████████████████████████████████████████▋            | 330/390 [01:28<00:16,  3.68it/s]\n",
      " 85%|███████████████████████████████████████████████████████████████████▉            | 331/390 [01:28<00:15,  3.71it/s]\n",
      " 85%|████████████████████████████████████████████████████████████████████            | 332/390 [01:29<00:15,  3.72it/s]\n",
      " 85%|████████████████████████████████████████████████████████████████████▎           | 333/390 [01:29<00:15,  3.70it/s]\n",
      " 86%|████████████████████████████████████████████████████████████████████▌           | 334/390 [01:29<00:15,  3.73it/s]\n",
      " 86%|████████████████████████████████████████████████████████████████████▋           | 335/390 [01:29<00:14,  3.71it/s]\n",
      " 86%|████████████████████████████████████████████████████████████████████▉           | 336/390 [01:30<00:14,  3.72it/s]\n",
      " 86%|█████████████████████████████████████████████████████████████████████▏          | 337/390 [01:30<00:14,  3.75it/s]\n",
      " 87%|█████████████████████████████████████████████████████████████████████▎          | 338/390 [01:30<00:13,  3.74it/s]\n",
      " 87%|█████████████████████████████████████████████████████████████████████▌          | 339/390 [01:30<00:13,  3.77it/s]\n",
      " 87%|█████████████████████████████████████████████████████████████████████▋          | 340/390 [01:31<00:13,  3.79it/s]\n",
      " 87%|█████████████████████████████████████████████████████████████████████▉          | 341/390 [01:31<00:12,  3.78it/s]\n",
      " 88%|██████████████████████████████████████████████████████████████████████▏         | 342/390 [01:31<00:12,  3.75it/s]\n",
      " 88%|██████████████████████████████████████████████████████████████████████▎         | 343/390 [01:31<00:12,  3.76it/s]\n",
      " 88%|██████████████████████████████████████████████████████████████████████▌         | 344/390 [01:32<00:12,  3.73it/s]\n",
      " 88%|██████████████████████████████████████████████████████████████████████▊         | 345/390 [01:32<00:12,  3.74it/s]\n",
      " 89%|██████████████████████████████████████████████████████████████████████▉         | 346/390 [01:32<00:11,  3.74it/s]\n",
      " 89%|███████████████████████████████████████████████████████████████████████▏        | 347/390 [01:33<00:11,  3.75it/s]\n",
      " 89%|███████████████████████████████████████████████████████████████████████▍        | 348/390 [01:33<00:11,  3.77it/s]\n",
      " 89%|███████████████████████████████████████████████████████████████████████▌        | 349/390 [01:33<00:10,  3.77it/s]\n",
      " 90%|███████████████████████████████████████████████████████████████████████▊        | 350/390 [01:33<00:10,  3.77it/s]\n",
      " 90%|████████████████████████████████████████████████████████████████████████        | 351/390 [01:34<00:10,  3.77it/s]\n",
      " 90%|████████████████████████████████████████████████████████████████████████▏       | 352/390 [01:34<00:10,  3.79it/s]\n",
      " 91%|████████████████████████████████████████████████████████████████████████▍       | 353/390 [01:34<00:09,  3.78it/s]\n",
      " 91%|████████████████████████████████████████████████████████████████████████▌       | 354/390 [01:34<00:09,  3.81it/s]\n",
      " 91%|████████████████████████████████████████████████████████████████████████▊       | 355/390 [01:35<00:09,  3.80it/s]\n",
      " 91%|█████████████████████████████████████████████████████████████████████████       | 356/390 [01:35<00:08,  3.78it/s]\n",
      " 92%|█████████████████████████████████████████████████████████████████████████▏      | 357/390 [01:35<00:08,  3.77it/s]\n",
      " 92%|█████████████████████████████████████████████████████████████████████████▍      | 358/390 [01:35<00:08,  3.79it/s]\n",
      " 92%|█████████████████████████████████████████████████████████████████████████▋      | 359/390 [01:36<00:08,  3.79it/s]\n",
      " 92%|█████████████████████████████████████████████████████████████████████████▊      | 360/390 [01:36<00:07,  3.79it/s]\n",
      " 93%|██████████████████████████████████████████████████████████████████████████      | 361/390 [01:36<00:07,  3.79it/s]\n",
      " 93%|██████████████████████████████████████████████████████████████████████████▎     | 362/390 [01:37<00:07,  3.65it/s]\n",
      " 93%|██████████████████████████████████████████████████████████████████████████▍     | 363/390 [01:37<00:07,  3.69it/s]\n",
      " 93%|██████████████████████████████████████████████████████████████████████████▋     | 364/390 [01:37<00:06,  3.73it/s]\n",
      " 94%|██████████████████████████████████████████████████████████████████████████▊     | 365/390 [01:37<00:06,  3.73it/s]\n",
      " 94%|███████████████████████████████████████████████████████████████████████████     | 366/390 [01:38<00:06,  3.67it/s]\n",
      " 94%|███████████████████████████████████████████████████████████████████████████▎    | 367/390 [01:38<00:06,  3.71it/s]\n",
      " 94%|███████████████████████████████████████████████████████████████████████████▍    | 368/390 [01:38<00:05,  3.77it/s]\n",
      " 95%|███████████████████████████████████████████████████████████████████████████▋    | 369/390 [01:38<00:05,  3.79it/s]\n",
      " 95%|███████████████████████████████████████████████████████████████████████████▉    | 370/390 [01:39<00:05,  3.78it/s]\n",
      " 95%|████████████████████████████████████████████████████████████████████████████    | 371/390 [01:39<00:04,  3.80it/s]\n",
      " 95%|████████████████████████████████████████████████████████████████████████████▎   | 372/390 [01:39<00:04,  3.83it/s]\n",
      " 96%|████████████████████████████████████████████████████████████████████████████▌   | 373/390 [01:39<00:04,  3.80it/s]\n",
      " 96%|████████████████████████████████████████████████████████████████████████████▋   | 374/390 [01:40<00:04,  3.81it/s]\n",
      " 96%|████████████████████████████████████████████████████████████████████████████▉   | 375/390 [01:40<00:03,  3.81it/s]\n",
      " 96%|█████████████████████████████████████████████████████████████████████████████▏  | 376/390 [01:40<00:03,  3.82it/s]\n",
      " 97%|█████████████████████████████████████████████████████████████████████████████▎  | 377/390 [01:40<00:03,  3.82it/s]\n",
      " 97%|█████████████████████████████████████████████████████████████████████████████▌  | 378/390 [01:41<00:03,  3.83it/s]\n",
      " 97%|█████████████████████████████████████████████████████████████████████████████▋  | 379/390 [01:41<00:02,  3.68it/s]\n",
      " 97%|█████████████████████████████████████████████████████████████████████████████▉  | 380/390 [01:41<00:02,  3.71it/s]\n",
      " 98%|██████████████████████████████████████████████████████████████████████████████▏ | 381/390 [01:42<00:02,  3.75it/s]\n",
      " 98%|██████████████████████████████████████████████████████████████████████████████▎ | 382/390 [01:42<00:02,  3.77it/s]\n",
      " 98%|██████████████████████████████████████████████████████████████████████████████▌ | 383/390 [01:42<00:01,  3.76it/s]\n",
      " 98%|██████████████████████████████████████████████████████████████████████████████▊ | 384/390 [01:42<00:01,  3.78it/s]\n",
      " 99%|██████████████████████████████████████████████████████████████████████████████▉ | 385/390 [01:43<00:01,  3.79it/s]\n",
      " 99%|███████████████████████████████████████████████████████████████████████████████▏| 386/390 [01:43<00:01,  3.82it/s]\n",
      " 99%|███████████████████████████████████████████████████████████████████████████████▍| 387/390 [01:43<00:00,  3.78it/s]\n",
      " 99%|███████████████████████████████████████████████████████████████████████████████▌| 388/390 [01:43<00:00,  3.80it/s]\n",
      "100%|███████████████████████████████████████████████████████████████████████████████▊| 389/390 [01:44<00:00,  3.82it/s]\n",
      "100%|████████████████████████████████████████████████████████████████████████████████| 390/390 [01:44<00:00,  3.84it/s]\n"
     ]
    }
   ],
   "source": [
    "create_training_set_vectors(model, X_train, y_train, batch_size, 'saver/model_epoch_5.ckpt', image_size)"
   ]
  },
  {
   "cell_type": "code",
   "execution_count": 140,
   "metadata": {},
   "outputs": [],
   "source": [
    "def compare_color(color_vectors, \n",
    "                  uploaded_image_colors, \n",
    "                  ids):\n",
    "    '''\n",
    "    Comparing color vectors of closest images from the training set with a color vector of a uploaded image (query image).\n",
    "    \n",
    "    :param color_vectors: color features vectors of closest training set images to the uploaded image\n",
    "    :param uploaded_image_colors: color vector of the uploaded image\n",
    "    :param ids: indices of training images being closest to the uploaded image (output from a distance function) \n",
    "    '''\n",
    "    color_distances = []\n",
    "    \n",
    "    for i in range(len(color_vectors)):\n",
    "        color_distances.append(euclidean(color_vectors[i], uploaded_image_colors))\n",
    "        \n",
    "    #The 15 is just an random number that I have choosen, you can return as many as you need/want\n",
    "    return ids[np.argsort(color_distances)[:15]] "
   ]
  },
  {
   "cell_type": "code",
   "execution_count": 3,
   "metadata": {},
   "outputs": [],
   "source": [
    "def simple_inference(model, \n",
    "                     session,\n",
    "                     train_set_vectors, \n",
    "                     uploaded_image_path,\n",
    "                     image_size, \n",
    "                     distance='hamming'):\n",
    "    \n",
    "    '''\n",
    "    Doing simple inference for single uploaded image.\n",
    "    \n",
    "    :param model: CNN model\n",
    "    :param session: tf.Session, restored session\n",
    "    :param train_set_vectors: loaded training set vectors\n",
    "    :param uploaded_image_path: string, path to the uploaded image\n",
    "    :param image_size: tuple, single image (height, width)\n",
    "    :param dsitance: string, type of distance to be used, \n",
    "                             this parameter is used to choose a way how to prepare vectors\n",
    "    '''\n",
    "    \n",
    "    image = image_loader(uploaded_image_path, image_size)\n",
    "    channels = cv2.split(image)\n",
    "    features = []\n",
    "    \n",
    "    for chan in channels:\n",
    "        hist = cv2.calcHist([chan], [0], None, [256], [0, 256])\n",
    "        features.append(hist)\n",
    "\n",
    "    color_features = np.vstack(features).T\n",
    "    \n",
    "    feed_dict = {model.inputs:[image], model.dropout_rate:0.0}\n",
    "    \n",
    "    dense_2_features, dense_4_features = session.run([model.dense_2_features, model.dense_4_features], feed_dict=feed_dict)\n",
    "    \n",
    "    closest_ids = None\n",
    "    if distance == 'hamming':\n",
    "        dense_2_features = np.where(dense_2_features < 0.5, 0, 1)\n",
    "        dense_4_features = np.where(dense_4_features < 0.5, 0, 1)\n",
    "        \n",
    "        uploaded_image_vector = np.hstack((dense_2_features, dense_4_features))\n",
    "        \n",
    "        closest_ids = hamming_distance(train_set_vectors, uploaded_image_vector)\n",
    "        \n",
    "    elif distance == 'cosine':\n",
    "        uploaded_image_vector = np.hstack((dense_2_features, dense_4_features))\n",
    "        \n",
    "        closest_ids = cosine_distance(train_set_vectors, uploaded_image_vector)\n",
    "        \n",
    "    return closest_ids"
   ]
  },
  {
   "cell_type": "code",
   "execution_count": 5,
   "metadata": {},
   "outputs": [],
   "source": [
    "def simple_inference_with_color_filters(model, \n",
    "                                         session,\n",
    "                                         train_set_vectors, \n",
    "                                         uploaded_image_path,\n",
    "                                         color_vectors,\n",
    "                                         image_size, \n",
    "                                         distance='hamming'):\n",
    "    \n",
    "    '''\n",
    "    Doing simple inference for single uploaded image.\n",
    "    \n",
    "    :param model: CNN model\n",
    "    :param session: tf.Session, restored session\n",
    "    :param train_set_vectors: loaded training set vectors\n",
    "    :param uploaded_image_path: string, path to the uploaded image\n",
    "    :param color_vectors: loaded training set color features vectors\n",
    "    :param image_size: tuple, single image (height, width)\n",
    "    :param dsitance: string, type of distance to be used, \n",
    "                             this parameter is used to choose a way how to prepare vectors\n",
    "    '''\n",
    "    \n",
    "    image = image_loader(uploaded_image_path, image_size)\n",
    "    \n",
    "    ####################################################\n",
    "    ## Calculating color histogram of the query image ##\n",
    "    channels = cv2.split(image)\n",
    "    features = []\n",
    "    for chan in channels:\n",
    "        hist = cv2.calcHist([chan], [0], None, [256], [0, 256])\n",
    "        features.append(hist)\n",
    "\n",
    "    color_features = np.vstack(features).T\n",
    "    ####################################################\n",
    "    \n",
    "    feed_dict = {model.inputs:[image], model.dropout_rate:0.0}\n",
    "    \n",
    "    dense_2_features, dense_4_features = session.run([model.dense_2_features, model.dense_4_features], feed_dict=feed_dict)\n",
    "    \n",
    "    closest_ids = None\n",
    "    if distance == 'hamming':\n",
    "        dense_2_features = np.where(dense_2_features < 0.5, 0, 1)\n",
    "        dense_4_features = np.where(dense_4_features < 0.5, 0, 1)\n",
    "        \n",
    "        uploaded_image_vector = np.hstack((dense_2_features, dense_4_features))\n",
    "        \n",
    "        closest_ids = hamming_distance(train_set_vectors, uploaded_image_vector)\n",
    "        \n",
    "        #Comparing color features between query image and closest images selected by the model\n",
    "        closest_ids = compare_color(np.array(color_vectors)[closest_ids], color_features, closest_ids)\n",
    "        \n",
    "    elif distance == 'cosine':\n",
    "        uploaded_image_vector = np.hstack((dense_2_features, dense_4_features))\n",
    "        \n",
    "        closest_ids = cosine_distance(train_set_vectors, uploaded_image_vector)\n",
    "        \n",
    "        #Comparing color features between query image and closest images selected by the model\n",
    "        closest_ids = compare_color(np.array(color_vectors)[closest_ids], color_features, closest_ids)\n",
    "        \n",
    "    return closest_ids"
   ]
  },
  {
   "cell_type": "markdown",
   "metadata": {},
   "source": [
    "### Pipeline test\n",
    "\n",
    "#### Define session and model"
   ]
  },
  {
   "cell_type": "code",
   "execution_count": 83,
   "metadata": {},
   "outputs": [],
   "source": [
    "model = ImageSearchModel(learning_rate=learning_rate, image_size=image_size)\n",
    "\n",
    "session = tf.Session()\n",
    "session.run(tf.global_variables_initializer())"
   ]
  },
  {
   "cell_type": "markdown",
   "metadata": {},
   "source": [
    "#### Restore session"
   ]
  },
  {
   "cell_type": "code",
   "execution_count": 84,
   "metadata": {},
   "outputs": [
    {
     "name": "stdout",
     "output_type": "stream",
     "text": [
      "INFO:tensorflow:Restoring parameters from saver/model_epoch_5.ckpt\n"
     ]
    }
   ],
   "source": [
    "saver = tf.train.Saver()\n",
    "saver.restore(session, \"saver/model_epoch_5.ckpt\")"
   ]
  },
  {
   "cell_type": "markdown",
   "metadata": {},
   "source": [
    "#### Load training set image paths"
   ]
  },
  {
   "cell_type": "code",
   "execution_count": 85,
   "metadata": {},
   "outputs": [],
   "source": [
    "with open('train_images_pickle.pickle', 'rb') as f:\n",
    "    train_image_paths = pickle.load(f)"
   ]
  },
  {
   "cell_type": "code",
   "execution_count": 86,
   "metadata": {},
   "outputs": [
    {
     "data": {
      "text/plain": [
       "['dataset/train/0_frog.png',\n",
       " 'dataset/train/10000_automobile.png',\n",
       " 'dataset/train/10001_frog.png',\n",
       " 'dataset/train/10002_frog.png',\n",
       " 'dataset/train/10003_ship.png',\n",
       " 'dataset/train/10004_ship.png',\n",
       " 'dataset/train/10005_cat.png',\n",
       " 'dataset/train/10006_deer.png',\n",
       " 'dataset/train/10007_frog.png',\n",
       " 'dataset/train/10008_airplane.png']"
      ]
     },
     "execution_count": 86,
     "metadata": {},
     "output_type": "execute_result"
    }
   ],
   "source": [
    "train_image_paths[:10]"
   ]
  },
  {
   "cell_type": "markdown",
   "metadata": {},
   "source": [
    "#### Load trainig set vectors"
   ]
  },
  {
   "cell_type": "code",
   "execution_count": 91,
   "metadata": {},
   "outputs": [],
   "source": [
    "with open('hamming_train_vectors_new.pickle', 'rb') as f:\n",
    "    train_set_vectors = pickle.load(f)"
   ]
  },
  {
   "cell_type": "code",
   "execution_count": 88,
   "metadata": {},
   "outputs": [],
   "source": [
    "with open('color_vectors.pickle', 'rb') as f:\n",
    "    color_vectors = pickle.load(f)"
   ]
  },
  {
   "cell_type": "code",
   "execution_count": 176,
   "metadata": {},
   "outputs": [],
   "source": [
    "test_image = 'dataset/test/1052_airplane.png'"
   ]
  },
  {
   "cell_type": "markdown",
   "metadata": {},
   "source": [
    "#### Get closest images - ids"
   ]
  },
  {
   "cell_type": "code",
   "execution_count": 177,
   "metadata": {},
   "outputs": [],
   "source": [
    "result_ids = simple_inference(model, session, train_set_vectors, test_image, color_vectors, image_size, distance='hamming')"
   ]
  },
  {
   "cell_type": "markdown",
   "metadata": {},
   "source": [
    "### Show query image"
   ]
  },
  {
   "cell_type": "code",
   "execution_count": 178,
   "metadata": {},
   "outputs": [
    {
     "data": {
      "text/plain": [
       "<matplotlib.image.AxesImage at 0x233183e35c0>"
      ]
     },
     "execution_count": 178,
     "metadata": {},
     "output_type": "execute_result"
    },
    {
     "data": {
      "image/png": "[encoded data removed]",
      "text/plain": [
       "<Figure size 432x288 with 1 Axes>"
      ]
     },
     "metadata": {
      "needs_background": "light"
     },
     "output_type": "display_data"
    }
   ],
   "source": [
    "plt.imshow(image_loader(test_image, image_size))"
   ]
  },
  {
   "cell_type": "markdown",
   "metadata": {},
   "source": [
    "### Show result images"
   ]
  },
  {
   "cell_type": "code",
   "execution_count": 179,
   "metadata": {},
   "outputs": [
    {
     "data": {
      "image/png": "[encoded data removed]",
      "text/plain": [
       "<Figure size 1152x1152 with 14 Axes>"
      ]
     },
     "metadata": {
      "needs_background": "light"
     },
     "output_type": "display_data"
    }
   ],
   "source": [
    "w = 10\n",
    "h = 10\n",
    "fig = plt.figure(figsize=(16, 16))\n",
    "colums = 10\n",
    "rows = 5\n",
    "for i in range(1, colums*rows+1):\n",
    "    try:\n",
    "        image = image_loader(train_image_paths[result_ids[i]], image_size)\n",
    "        fig.add_subplot(rows, colums, i)\n",
    "        plt.imshow(image)\n",
    "    except:\n",
    "        pass\n",
    "plt.show()"
   ]
  },
  {
   "cell_type": "markdown",
   "metadata": {},
   "source": []
  },
  {
   "cell_type": "code",
   "execution_count": null,
   "metadata": {},
   "outputs": [],
   "source": []
  },
  {
   "cell_type": "code",
   "execution_count": null,
   "metadata": {},
   "outputs": [],
   "source": []
  },
  {
   "cell_type": "code",
   "execution_count": null,
   "metadata": {},
   "outputs": [],
   "source": []
  },
  {
   "cell_type": "code",
   "execution_count": null,
   "metadata": {},
   "outputs": [],
   "source": []
  },
  {
   "cell_type": "code",
   "execution_count": null,
   "metadata": {},
   "outputs": [],
   "source": []
  },
  {
   "cell_type": "code",
   "execution_count": null,
   "metadata": {},
   "outputs": [],
   "source": []
  },
  {
   "cell_type": "code",
   "execution_count": 32,
   "metadata": {},
   "outputs": [
    {
     "data": {
      "image/png": "[encoded data removed]",
      "text/plain": [
       "<Figure size 432x288 with 1 Axes>"
      ]
     },
     "metadata": {
      "needs_background": "light"
     },
     "output_type": "display_data"
    }
   ],
   "source": [
    "chans = cv2.split(X_train[0])\n",
    "features = []\n",
    "for chan in chans:\n",
    "    hist = cv2.calcHist([chan], [0], None, [256], [0, 256])\n",
    "    features.append(hist)\n",
    "    \n",
    "    plt.plot(hist)\n",
    "    plt.xlim([0, 256])"
   ]
  },
  {
   "cell_type": "code",
   "execution_count": 35,
   "metadata": {},
   "outputs": [
    {
     "data": {
      "text/plain": [
       "(3, 256, 1)"
      ]
     },
     "execution_count": 35,
     "metadata": {},
     "output_type": "execute_result"
    }
   ],
   "source": [
    "np.array(features).shape"
   ]
  },
  {
   "cell_type": "code",
   "execution_count": 43,
   "metadata": {},
   "outputs": [
    {
     "data": {
      "text/plain": [
       "array([ 1.,  0.,  0.,  0.,  0.,  0.,  0.,  0.,  0.,  0.,  0.,  0.,  0.,\n",
       "        0.,  0.,  0.,  2.,  0.,  1.,  0.,  0.,  0.,  0.,  0.,  0.,  1.,\n",
       "        0.,  0.,  0.,  0.,  0.,  0.,  1.,  2.,  1.,  1.,  0.,  0.,  1.,\n",
       "        0.,  0.,  1.,  0.,  1.,  1.,  0.,  0.,  0.,  0.,  1.,  4.,  2.,\n",
       "        0.,  1.,  1.,  0.,  2.,  0.,  2.,  2.,  0.,  0.,  1.,  3.,  2.,\n",
       "        1.,  2.,  2.,  3.,  0.,  1.,  2.,  3.,  0.,  3.,  3.,  1.,  2.,\n",
       "        1.,  2.,  3.,  1.,  1.,  3.,  5.,  0.,  2.,  2.,  6.,  2.,  4.,\n",
       "        1.,  1.,  2.,  2.,  1.,  4.,  5.,  4.,  1.,  4.,  6.,  5.,  4.,\n",
       "        1.,  9.,  4.,  8., 11.,  6.,  3.,  5.,  8.,  7.,  6.,  4.,  1.,\n",
       "        7.,  4., 12., 12., 16., 10., 11., 13., 12., 15., 24., 18., 14.,\n",
       "       22., 20., 16., 19., 14., 23., 25., 18., 15., 23., 17., 14., 14.,\n",
       "       14., 12., 15., 10., 14., 14., 17.,  8., 14., 11., 12.,  8.,  4.,\n",
       "        8.,  2.,  5.,  4.,  2.,  7.,  5.,  7.,  0.,  3.,  9.,  1.,  5.,\n",
       "        3.,  3.,  4.,  3.,  6.,  1.,  6.,  0.,  2.,  1.,  6.,  3.,  2.,\n",
       "        2.,  2.,  5.,  2.,  4.,  3.,  3.,  6.,  5.,  6.,  2.,  2.,  2.,\n",
       "        3.,  2.,  1.,  3.,  2.,  1.,  5.,  5.,  4.,  1.,  2.,  3.,  3.,\n",
       "        2.,  2.,  3.,  2.,  2.,  2.,  1.,  3.,  4.,  1.,  2.,  3.,  5.,\n",
       "        0.,  1.,  3.,  3.,  2.,  1.,  2.,  1.,  2.,  3.,  3.,  0.,  1.,\n",
       "        1.,  1.,  3.,  1.,  2.,  2.,  2.,  3.,  1.,  1.,  2.,  2.,  0.,\n",
       "        1.,  2.,  0.,  2.,  0.,  1.,  0.,  0.,  2.,  1.,  0.,  0.,  0.,\n",
       "        0.,  1.,  0.,  1.,  1.,  0.,  1.,  0.,  0.,  1.,  0.,  0.,  0.,\n",
       "        0.,  0.,  1.,  2.,  0.,  1.,  0.,  2.,  2.,  1.,  2.,  0.,  3.,\n",
       "        0.,  3.,  2.,  1.,  1.,  2.,  1.,  2.,  2.,  5.,  3.,  1.,  4.,\n",
       "        4.,  1.,  1.,  1.,  4.,  4.,  0.,  5.,  4.,  1.,  5.,  5.,  1.,\n",
       "        5.,  3.,  4.,  3.,  3.,  4.,  5.,  5.,  2.,  6.,  2.,  6.,  8.,\n",
       "        6.,  7.,  3.,  7.,  7., 12.,  6., 10.,  8.,  8., 13., 10., 12.,\n",
       "       17., 11., 13., 14., 15., 21., 18., 24., 19., 24., 25., 17., 14.,\n",
       "       23., 12., 20.,  7., 16., 13., 11., 17., 11., 12., 20., 16.,  9.,\n",
       "       13., 11.,  9.,  7.,  9.,  5.,  5.,  7., 11.,  8.,  7.,  5.,  6.,\n",
       "       11.,  3.,  7.,  5.,  2.,  2.,  4.,  3.,  6.,  2.,  6.,  5.,  4.,\n",
       "        3.,  2.,  7.,  4.,  0.,  2.,  1.,  3.,  3.,  2.,  4.,  3.,  5.,\n",
       "        1.,  5.,  3.,  5.,  2.,  1.,  4.,  1.,  2.,  2.,  6.,  4.,  1.,\n",
       "        2.,  1.,  4.,  2.,  3.,  2.,  2.,  3.,  3.,  4.,  1.,  3.,  0.,\n",
       "        2.,  4.,  2.,  2.,  2.,  0.,  0.,  0.,  4.,  3.,  3.,  2.,  0.,\n",
       "        1.,  0.,  3.,  1.,  0.,  3.,  2.,  1.,  0.,  1.,  3.,  3.,  1.,\n",
       "        1.,  1.,  0.,  0.,  0.,  1.,  0.,  2.,  1.,  2.,  1.,  0.,  0.,\n",
       "        2.,  1.,  1.,  0.,  2.,  3.,  3.,  1.,  1.,  1.,  0.,  0.,  1.,\n",
       "        1.,  2.,  3.,  1.,  1.,  0.,  0.,  1.,  1.,  2.,  0.,  0.,  1.,\n",
       "        0.,  0.,  0.,  2.,  0.,  2.,  0.,  0.,  0.,  1.,  0.,  0.,  0.,\n",
       "        0.,  1.,  1.,  0.,  0.,  5.,  0.,  0.,  0.,  3.,  0.,  0.,  1.,\n",
       "        3.,  4.,  2.,  3.,  1.,  3.,  6.,  3.,  8.,  7.,  3.,  6.,  5.,\n",
       "        9.,  4.,  8.,  8., 10.,  8.,  6.,  2.,  5., 11.,  8.,  9., 16.,\n",
       "       21., 10., 13., 16., 15., 16., 13., 15., 10., 16., 17., 16., 22.,\n",
       "       13., 20., 23., 19., 26., 23., 16., 17., 19., 16., 25., 16., 18.,\n",
       "       21., 12., 12., 13.,  9., 13., 12.,  4., 11.,  9.,  6.,  8.,  6.,\n",
       "        5.,  7.,  6.,  9.,  6.,  6., 10.,  3.,  3.,  8.,  5.,  4.,  2.,\n",
       "        5.,  6.,  3.,  5.,  1.,  6.,  5.,  2.,  5.,  0.,  4.,  1.,  3.,\n",
       "        4.,  5.,  0.,  4.,  2.,  4.,  5.,  2.,  4.,  2.,  1.,  8.,  0.,\n",
       "        4.,  3.,  2.,  3.,  1.,  0.,  3.,  0.,  2.,  1.,  1.,  1.,  0.,\n",
       "        0.,  0.,  0.,  2.,  1.,  0.,  1.,  2.,  2.,  0.,  2.,  1.,  0.,\n",
       "        4.,  1.,  2.,  2.,  2.,  0.,  1.,  0.,  1.,  2.,  1.,  1.,  0.,\n",
       "        1.,  2.,  0.,  1.,  0.,  2.,  2.,  0.,  0.,  2.,  2.,  0.,  1.,\n",
       "        2.,  1.,  2.,  0.,  1.,  2.,  2.,  0.,  0.,  1.,  0.,  0.,  2.,\n",
       "        1.,  0.,  1.,  1.,  2.,  0.,  0.,  0.,  0.,  2.,  0.,  0.,  0.,\n",
       "        0.,  0.,  1.,  0.,  1.,  3.,  2.,  3.,  0.,  0.,  0.,  1.,  0.,\n",
       "        1.,  0.,  1.,  0.,  0.,  1.,  0.,  2.,  0.,  3.,  0.,  0.,  1.,\n",
       "        1.,  0.,  0.,  1.,  0.,  0.,  0.,  0.,  0.,  0.,  1.,  0.,  0.,\n",
       "        2.,  0.,  0.,  1.,  0.,  0.,  1.,  0.,  0.,  0.,  0.,  0.,  0.,\n",
       "        0.,  0.,  0.,  0.,  0.,  0.,  0.,  0.,  0.,  0.,  0.,  0.,  0.,\n",
       "        0.], dtype=float32)"
      ]
     },
     "execution_count": 43,
     "metadata": {},
     "output_type": "execute_result"
    }
   ],
   "source": [
    "np.vstack(features).squeeze()"
   ]
  }
 ],
 "metadata": {
  "kernelspec": {
   "display_name": "Python 3",
   "language": "python",
   "name": "python3"
  },
  "language_info": {
   "codemirror_mode": {
    "name": "ipython",
    "version": 3
   },
   "file_extension": ".py",
   "mimetype": "text/x-python",
   "name": "python",
   "nbconvert_exporter": "python",
   "pygments_lexer": "ipython3",
   "version": "3.6.6"
  }
 },
 "nbformat": 4,
 "nbformat_minor": 2
}
